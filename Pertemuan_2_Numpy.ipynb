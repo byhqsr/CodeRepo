{
  "nbformat": 4,
  "nbformat_minor": 0,
  "metadata": {
    "kernelspec": {
      "display_name": "Python 3",
      "language": "python",
      "name": "python3"
    },
    "language_info": {
      "codemirror_mode": {
        "name": "ipython",
        "version": 3
      },
      "file_extension": ".py",
      "mimetype": "text/x-python",
      "name": "python",
      "nbconvert_exporter": "python",
      "pygments_lexer": "ipython3",
      "version": "3.7.4"
    },
    "colab": {
      "name": "Pertemuan_2_Numpy.ipynb",
      "provenance": [],
      "include_colab_link": true
    }
  },
  "cells": [
    {
      "cell_type": "markdown",
      "metadata": {
        "id": "view-in-github",
        "colab_type": "text"
      },
      "source": [
        "<a href=\"https://colab.research.google.com/github/byhqsr/CodeRepo/blob/main/Pertemuan_2_Numpy.ipynb\" target=\"_parent\"><img src=\"https://colab.research.google.com/assets/colab-badge.svg\" alt=\"Open In Colab\"/></a>"
      ]
    },
    {
      "cell_type": "markdown",
      "metadata": {
        "id": "A-oE_ltVR0E8"
      },
      "source": [
        "# NUMPY - Multidimensional Data Arrays"
      ]
    },
    {
      "cell_type": "markdown",
      "metadata": {
        "id": "q9wpJp5pR0E9"
      },
      "source": [
        "It is a package that provide high-performance vector, matrix and higher-dimensional data structures for Python. NumPy brings the computational power of languages like C and Fortran to Python, a language much easier to learn and use."
      ]
    },
    {
      "cell_type": "code",
      "metadata": {
        "id": "BiNH5AzYR0E-"
      },
      "source": [
        "import numpy as np"
      ],
      "execution_count": 3,
      "outputs": []
    },
    {
      "cell_type": "code",
      "metadata": {
        "scrolled": true,
        "id": "mHGgGg5wR0FC",
        "outputId": "1aa57295-d549-484b-87f0-8d1f5adfd869",
        "colab": {
          "base_uri": "https://localhost:8080/",
          "height": 35
        }
      },
      "source": [
        "np.__version__"
      ],
      "execution_count": 4,
      "outputs": [
        {
          "output_type": "execute_result",
          "data": {
            "application/vnd.google.colaboratory.intrinsic+json": {
              "type": "string"
            },
            "text/plain": [
              "'1.18.5'"
            ]
          },
          "metadata": {
            "tags": []
          },
          "execution_count": 4
        }
      ]
    },
    {
      "cell_type": "code",
      "metadata": {
        "id": "1vbzqsRcR0FG",
        "outputId": "a1d36330-fb83-4f42-84a7-44f506c8ff62",
        "colab": {
          "base_uri": "https://localhost:8080/",
          "height": 34
        }
      },
      "source": [
        "print(np.info(np.add))"
      ],
      "execution_count": 5,
      "outputs": [
        {
          "output_type": "stream",
          "text": [
            "None\n"
          ],
          "name": "stdout"
        }
      ]
    },
    {
      "cell_type": "markdown",
      "metadata": {
        "id": "AB5n7PhhR0FJ"
      },
      "source": [
        "## What is Array?"
      ]
    },
    {
      "cell_type": "markdown",
      "metadata": {
        "id": "sBuq24-OR0FL"
      },
      "source": [
        "![](image/array.png)"
      ]
    },
    {
      "cell_type": "code",
      "metadata": {
        "id": "Km8ZG4zaR0FL"
      },
      "source": [
        "# Python List\n",
        "\n",
        "a = [1, 2, 3, 4]\n",
        "b = [5, 6, 7, 8]"
      ],
      "execution_count": 6,
      "outputs": []
    },
    {
      "cell_type": "code",
      "metadata": {
        "scrolled": true,
        "id": "I1zmUW9-R0FP",
        "outputId": "15aab7ca-6ac9-4bea-bde5-1414483e34c9",
        "colab": {
          "base_uri": "https://localhost:8080/",
          "height": 198
        }
      },
      "source": [
        "print(a+b)\n",
        "print(a*b)"
      ],
      "execution_count": 7,
      "outputs": [
        {
          "output_type": "stream",
          "text": [
            "[1, 2, 3, 4, 5, 6, 7, 8]\n"
          ],
          "name": "stdout"
        },
        {
          "output_type": "error",
          "ename": "TypeError",
          "evalue": "ignored",
          "traceback": [
            "\u001b[0;31m---------------------------------------------------------------------------\u001b[0m",
            "\u001b[0;31mTypeError\u001b[0m                                 Traceback (most recent call last)",
            "\u001b[0;32m<ipython-input-7-8da66cc73869>\u001b[0m in \u001b[0;36m<module>\u001b[0;34m()\u001b[0m\n\u001b[1;32m      1\u001b[0m \u001b[0mprint\u001b[0m\u001b[0;34m(\u001b[0m\u001b[0ma\u001b[0m\u001b[0;34m+\u001b[0m\u001b[0mb\u001b[0m\u001b[0;34m)\u001b[0m\u001b[0;34m\u001b[0m\u001b[0;34m\u001b[0m\u001b[0m\n\u001b[0;32m----> 2\u001b[0;31m \u001b[0mprint\u001b[0m\u001b[0;34m(\u001b[0m\u001b[0ma\u001b[0m\u001b[0;34m*\u001b[0m\u001b[0mb\u001b[0m\u001b[0;34m)\u001b[0m\u001b[0;34m\u001b[0m\u001b[0;34m\u001b[0m\u001b[0m\n\u001b[0m",
            "\u001b[0;31mTypeError\u001b[0m: can't multiply sequence by non-int of type 'list'"
          ]
        }
      ]
    },
    {
      "cell_type": "markdown",
      "metadata": {
        "id": "7rOk9oz2R0FS"
      },
      "source": [
        "In the `numpy` package the terminology used for vectors, matrices and higher-dimensional data sets is *array*. \n",
        "\n"
      ]
    },
    {
      "cell_type": "code",
      "metadata": {
        "id": "2eI1u3tMR0FS",
        "outputId": "09dde1fb-9e98-4fe5-bb26-51c8d6e4e9fe",
        "colab": {
          "base_uri": "https://localhost:8080/",
          "height": 51
        }
      },
      "source": [
        "a_array = np.array(a)\n",
        "b_array = np.array(b)\n",
        "\n",
        "print(a_array + b_array)\n",
        "print(a_array * b_array)"
      ],
      "execution_count": 8,
      "outputs": [
        {
          "output_type": "stream",
          "text": [
            "[ 6  8 10 12]\n",
            "[ 5 12 21 32]\n"
          ],
          "name": "stdout"
        }
      ]
    },
    {
      "cell_type": "markdown",
      "metadata": {
        "id": "URPQnzlQR0Fc"
      },
      "source": [
        "## Creating `numpy` arrays"
      ]
    },
    {
      "cell_type": "markdown",
      "metadata": {
        "id": "xTR-JlGDR0Fd"
      },
      "source": [
        "There are some ways to initialize new numpy arrays:\n",
        "* a Python list or tuples\n",
        "* using functions that are dedicated to generating numpy arrays, such as `arange`, `linspace`, etc.\n",
        "* reading data from files"
      ]
    },
    {
      "cell_type": "markdown",
      "metadata": {
        "id": "jRn5ZRgcR0Fj"
      },
      "source": [
        "### Lists"
      ]
    },
    {
      "cell_type": "code",
      "metadata": {
        "id": "L6soXxQLR0Fk",
        "outputId": "48d734dc-8a9f-485c-fc8e-7a62a13e8159",
        "colab": {
          "base_uri": "https://localhost:8080/",
          "height": 34
        }
      },
      "source": [
        "# vector: the argument to the array function is a list\n",
        "v = np.array([1, 2, 3, 4, 5])\n",
        "\n",
        "v"
      ],
      "execution_count": 9,
      "outputs": [
        {
          "output_type": "execute_result",
          "data": {
            "text/plain": [
              "array([1, 2, 3, 4, 5])"
            ]
          },
          "metadata": {
            "tags": []
          },
          "execution_count": 9
        }
      ]
    },
    {
      "cell_type": "code",
      "metadata": {
        "id": "i5RYNhKCR0Fm",
        "outputId": "42d34692-7e20-493c-e1d6-52d67f0ccec2",
        "colab": {
          "base_uri": "https://localhost:8080/",
          "height": 51
        }
      },
      "source": [
        "# matrix: the argument to the array function is a nested list\n",
        "m = np.array([[1, 2, 3], [4, 5, 6]])\n",
        "\n",
        "m"
      ],
      "execution_count": 10,
      "outputs": [
        {
          "output_type": "execute_result",
          "data": {
            "text/plain": [
              "array([[1, 2, 3],\n",
              "       [4, 5, 6]])"
            ]
          },
          "metadata": {
            "tags": []
          },
          "execution_count": 10
        }
      ]
    },
    {
      "cell_type": "markdown",
      "metadata": {
        "id": "lI2A4w-RR0Fq"
      },
      "source": [
        "The `v` and `m` objects are both of the type `ndarray` that the `numpy` module provides."
      ]
    },
    {
      "cell_type": "code",
      "metadata": {
        "scrolled": true,
        "id": "iEaPEQ24R0Fr",
        "outputId": "2255a9f3-b10e-4596-94e2-da86f2119a3f",
        "colab": {
          "base_uri": "https://localhost:8080/",
          "height": 34
        }
      },
      "source": [
        "type(v), type(m)"
      ],
      "execution_count": 11,
      "outputs": [
        {
          "output_type": "execute_result",
          "data": {
            "text/plain": [
              "(numpy.ndarray, numpy.ndarray)"
            ]
          },
          "metadata": {
            "tags": []
          },
          "execution_count": 11
        }
      ]
    },
    {
      "cell_type": "code",
      "metadata": {
        "id": "asF0os_FR0Fv"
      },
      "source": [
        "a = [1,2,3]"
      ],
      "execution_count": 12,
      "outputs": []
    },
    {
      "cell_type": "code",
      "metadata": {
        "id": "8H6gtxYIR0Fy",
        "outputId": "ed8df3e5-db89-45cd-cd9e-7c5ab6c59982",
        "colab": {
          "base_uri": "https://localhost:8080/",
          "height": 34
        }
      },
      "source": [
        "type(a)"
      ],
      "execution_count": 13,
      "outputs": [
        {
          "output_type": "execute_result",
          "data": {
            "text/plain": [
              "list"
            ]
          },
          "metadata": {
            "tags": []
          },
          "execution_count": 13
        }
      ]
    },
    {
      "cell_type": "markdown",
      "metadata": {
        "id": "h5t7RQJmR0F0"
      },
      "source": [
        "The difference between the `v` and `m` arrays is only their shapes. We can get information about the shape of an array by using the `ndarray.shape` property."
      ]
    },
    {
      "cell_type": "code",
      "metadata": {
        "id": "3qYR6qd9R0F1",
        "outputId": "9228f68f-aafe-40d8-aa7a-0f91ce1f8066",
        "colab": {
          "base_uri": "https://localhost:8080/",
          "height": 34
        }
      },
      "source": [
        "v.shape"
      ],
      "execution_count": 14,
      "outputs": [
        {
          "output_type": "execute_result",
          "data": {
            "text/plain": [
              "(5,)"
            ]
          },
          "metadata": {
            "tags": []
          },
          "execution_count": 14
        }
      ]
    },
    {
      "cell_type": "code",
      "metadata": {
        "id": "yXtC2AbsR0F5",
        "outputId": "b17e3b2c-a9f2-455c-ac3a-cc4cd2c8d6c0",
        "colab": {
          "base_uri": "https://localhost:8080/",
          "height": 34
        }
      },
      "source": [
        "m.shape"
      ],
      "execution_count": 15,
      "outputs": [
        {
          "output_type": "execute_result",
          "data": {
            "text/plain": [
              "(2, 3)"
            ]
          },
          "metadata": {
            "tags": []
          },
          "execution_count": 15
        }
      ]
    },
    {
      "cell_type": "markdown",
      "metadata": {
        "id": "4gXoh6c7R0F9"
      },
      "source": [
        "The number of elements in the array is available through the `ndarray.size` property"
      ]
    },
    {
      "cell_type": "code",
      "metadata": {
        "id": "pUeJ-rWcR0F-",
        "outputId": "9e10ad7d-1439-4545-c678-ddd8a8d91ac5",
        "colab": {
          "base_uri": "https://localhost:8080/",
          "height": 34
        }
      },
      "source": [
        "m.size"
      ],
      "execution_count": 16,
      "outputs": [
        {
          "output_type": "execute_result",
          "data": {
            "text/plain": [
              "6"
            ]
          },
          "metadata": {
            "tags": []
          },
          "execution_count": 16
        }
      ]
    },
    {
      "cell_type": "markdown",
      "metadata": {
        "id": "Y23NZzXXR0GB"
      },
      "source": [
        "`numpy.ndarray` looks very similiar to the `list`. So, why not use the list instead?\n",
        "`numpay.ndarray` is used for several reason:\n",
        "1. Lists are very general. They can contain any kind of object. They do not support mathematical functions such as matrix and dot multiplication, etc. \n",
        "2. Numpy arrays are statically typed and homogenous. The type of the elements is determined when the array is created\n",
        "3. Numpy arrays are memory efficient\n",
        "4. It is fast for implementation of mathematical function"
      ]
    },
    {
      "cell_type": "markdown",
      "metadata": {
        "id": "U3_xtNcrR0GC"
      },
      "source": [
        "We can see the type of data of an array using `dtype`"
      ]
    },
    {
      "cell_type": "code",
      "metadata": {
        "id": "IBldFFMmR0GC",
        "outputId": "98414d9f-5d6f-4067-a110-aa51e2cf085f",
        "colab": {
          "base_uri": "https://localhost:8080/",
          "height": 34
        }
      },
      "source": [
        "m.dtype"
      ],
      "execution_count": 18,
      "outputs": [
        {
          "output_type": "execute_result",
          "data": {
            "text/plain": [
              "dtype('int64')"
            ]
          },
          "metadata": {
            "tags": []
          },
          "execution_count": 18
        }
      ]
    },
    {
      "cell_type": "markdown",
      "metadata": {
        "id": "aSK0RXLOR0GG"
      },
      "source": [
        "If we want, we can explicitly define the type of the array data when we create it, using the `dtype` keyword argument: "
      ]
    },
    {
      "cell_type": "code",
      "metadata": {
        "id": "KNv_01ZhR0GH",
        "outputId": "ea8f7d75-c953-4e96-edad-945b6973cbfa",
        "colab": {
          "base_uri": "https://localhost:8080/",
          "height": 51
        }
      },
      "source": [
        "m = np.array([[1, 2, 3], [4, 5, 6]], dtype=float)\n",
        "\n",
        "m"
      ],
      "execution_count": 19,
      "outputs": [
        {
          "output_type": "execute_result",
          "data": {
            "text/plain": [
              "array([[1., 2., 3.],\n",
              "       [4., 5., 6.]])"
            ]
          },
          "metadata": {
            "tags": []
          },
          "execution_count": 19
        }
      ]
    },
    {
      "cell_type": "markdown",
      "metadata": {
        "id": "A71PveVfR0GK"
      },
      "source": [
        "Common data types that can be used with `dtype` are: `int`, `float`, `complex`, `bool`, `object`, etc."
      ]
    },
    {
      "cell_type": "markdown",
      "metadata": {
        "id": "YC-QgXpsR0GK"
      },
      "source": [
        "### Create Matrix Zeros"
      ]
    },
    {
      "cell_type": "code",
      "metadata": {
        "id": "Ekh1dobZR0GL",
        "outputId": "48b543be-f442-4346-8952-451a0ea53252",
        "colab": {
          "base_uri": "https://localhost:8080/",
          "height": 34
        }
      },
      "source": [
        "# One dimension\n",
        "\n",
        "zeros_matrix = np.zeros(5)\n",
        "\n",
        "zeros_matrix"
      ],
      "execution_count": 20,
      "outputs": [
        {
          "output_type": "execute_result",
          "data": {
            "text/plain": [
              "array([0., 0., 0., 0., 0.])"
            ]
          },
          "metadata": {
            "tags": []
          },
          "execution_count": 20
        }
      ]
    },
    {
      "cell_type": "code",
      "metadata": {
        "scrolled": true,
        "id": "13zNgDJ6R0GR",
        "outputId": "274a0c8f-a1ed-4531-8361-dc484c7684f9",
        "colab": {
          "base_uri": "https://localhost:8080/",
          "height": 198
        }
      },
      "source": [
        "#two dimension\n",
        "\n",
        "zeros_matrix2 = np.zeros(5,2)"
      ],
      "execution_count": 21,
      "outputs": [
        {
          "output_type": "error",
          "ename": "TypeError",
          "evalue": "ignored",
          "traceback": [
            "\u001b[0;31m---------------------------------------------------------------------------\u001b[0m",
            "\u001b[0;31mTypeError\u001b[0m                                 Traceback (most recent call last)",
            "\u001b[0;32m<ipython-input-21-272f34c4896f>\u001b[0m in \u001b[0;36m<module>\u001b[0;34m()\u001b[0m\n\u001b[1;32m      1\u001b[0m \u001b[0;31m#two dimension\u001b[0m\u001b[0;34m\u001b[0m\u001b[0;34m\u001b[0m\u001b[0;34m\u001b[0m\u001b[0m\n\u001b[1;32m      2\u001b[0m \u001b[0;34m\u001b[0m\u001b[0m\n\u001b[0;32m----> 3\u001b[0;31m \u001b[0mzeros_matrix2\u001b[0m \u001b[0;34m=\u001b[0m \u001b[0mnp\u001b[0m\u001b[0;34m.\u001b[0m\u001b[0mzeros\u001b[0m\u001b[0;34m(\u001b[0m\u001b[0;36m5\u001b[0m\u001b[0;34m,\u001b[0m\u001b[0;36m2\u001b[0m\u001b[0;34m)\u001b[0m\u001b[0;34m\u001b[0m\u001b[0;34m\u001b[0m\u001b[0m\n\u001b[0m",
            "\u001b[0;31mTypeError\u001b[0m: data type not understood"
          ]
        }
      ]
    },
    {
      "cell_type": "code",
      "metadata": {
        "id": "klGSZFjiR0GY",
        "outputId": "71c3ef94-9e45-4b37-d74d-d15d08c1160e",
        "colab": {
          "base_uri": "https://localhost:8080/",
          "height": 102
        }
      },
      "source": [
        "# should  be in tuple format\n",
        "\n",
        "zeros_matrix2 = np.zeros((5,2)) # 5 rows, 2 columns\n",
        "zeros_matrix2 "
      ],
      "execution_count": 22,
      "outputs": [
        {
          "output_type": "execute_result",
          "data": {
            "text/plain": [
              "array([[0., 0.],\n",
              "       [0., 0.],\n",
              "       [0., 0.],\n",
              "       [0., 0.],\n",
              "       [0., 0.]])"
            ]
          },
          "metadata": {
            "tags": []
          },
          "execution_count": 22
        }
      ]
    },
    {
      "cell_type": "markdown",
      "metadata": {
        "id": "s0Yjrb3JR0Gb"
      },
      "source": [
        "### Matrix ones"
      ]
    },
    {
      "cell_type": "code",
      "metadata": {
        "id": "INfMtr1JR0Gc",
        "outputId": "78308817-53e7-460f-d200-9e3c3fc6b279",
        "colab": {
          "base_uri": "https://localhost:8080/",
          "height": 34
        }
      },
      "source": [
        "#one dimension\n",
        "\n",
        "matrix_ones = np.ones(5)\n",
        "matrix_ones "
      ],
      "execution_count": 23,
      "outputs": [
        {
          "output_type": "execute_result",
          "data": {
            "text/plain": [
              "array([1., 1., 1., 1., 1.])"
            ]
          },
          "metadata": {
            "tags": []
          },
          "execution_count": 23
        }
      ]
    },
    {
      "cell_type": "code",
      "metadata": {
        "scrolled": true,
        "id": "swrkxg5yR0Gf",
        "outputId": "30cecd15-7add-48ee-b3fc-2d29e9ebc092",
        "colab": {
          "base_uri": "https://localhost:8080/",
          "height": 255
        }
      },
      "source": [
        "#3 dimension\n",
        "\n",
        "matrix_ones2 = np.ones((3, 4, 2)) #3 rows, 4 columns, 2 depth\n",
        "matrix_ones2"
      ],
      "execution_count": 24,
      "outputs": [
        {
          "output_type": "execute_result",
          "data": {
            "text/plain": [
              "array([[[1., 1.],\n",
              "        [1., 1.],\n",
              "        [1., 1.],\n",
              "        [1., 1.]],\n",
              "\n",
              "       [[1., 1.],\n",
              "        [1., 1.],\n",
              "        [1., 1.],\n",
              "        [1., 1.]],\n",
              "\n",
              "       [[1., 1.],\n",
              "        [1., 1.],\n",
              "        [1., 1.],\n",
              "        [1., 1.]]])"
            ]
          },
          "metadata": {
            "tags": []
          },
          "execution_count": 24
        }
      ]
    },
    {
      "cell_type": "markdown",
      "metadata": {
        "id": "wWIlmU8JR0Gi"
      },
      "source": [
        "## > Exercise 1"
      ]
    },
    {
      "cell_type": "markdown",
      "metadata": {
        "id": "l0B--tcRR0Gj"
      },
      "source": [
        "1. Create a matrix from a list which has 4 rows and 3 columns"
      ]
    },
    {
      "cell_type": "code",
      "metadata": {
        "id": "b6mSSJCCR0Gj",
        "outputId": "76a12dc6-1897-4349-b5ea-234c749e25f4",
        "colab": {
          "base_uri": "https://localhost:8080/",
          "height": 85
        }
      },
      "source": [
        "my_matrix = np.array([[1,2,3],\n",
        "                     [2,3,4],\n",
        "                     [1,2,1],\n",
        "                     [1,2,2]])\n",
        "my_matrix"
      ],
      "execution_count": 25,
      "outputs": [
        {
          "output_type": "execute_result",
          "data": {
            "text/plain": [
              "array([[1, 2, 3],\n",
              "       [2, 3, 4],\n",
              "       [1, 2, 1],\n",
              "       [1, 2, 2]])"
            ]
          },
          "metadata": {
            "tags": []
          },
          "execution_count": 25
        }
      ]
    },
    {
      "cell_type": "markdown",
      "metadata": {
        "id": "jBKrguKnR0Gs"
      },
      "source": [
        "2. Create the following matrix\n",
        "![](image/lat11.png)"
      ]
    },
    {
      "cell_type": "code",
      "metadata": {
        "id": "DBIGStsFR0Gw",
        "outputId": "31cbc224-3aca-494c-de95-77427a4c83c9",
        "colab": {
          "base_uri": "https://localhost:8080/",
          "height": 68
        }
      },
      "source": [
        "my_matrix2 = np.array([[2,7,12,0],\n",
        "                      [3,9,3,4],\n",
        "                      [4,0,1,3]])\n",
        "my_matrix2"
      ],
      "execution_count": 26,
      "outputs": [
        {
          "output_type": "execute_result",
          "data": {
            "text/plain": [
              "array([[ 2,  7, 12,  0],\n",
              "       [ 3,  9,  3,  4],\n",
              "       [ 4,  0,  1,  3]])"
            ]
          },
          "metadata": {
            "tags": []
          },
          "execution_count": 26
        }
      ]
    },
    {
      "cell_type": "markdown",
      "metadata": {
        "id": "2R99gHTPR0G0"
      },
      "source": [
        "3. Create a 2D matrix with size of 10"
      ]
    },
    {
      "cell_type": "code",
      "metadata": {
        "id": "lJ5inAPYR0G0",
        "outputId": "13e81071-3d19-44d1-cef2-84e38645ffb9",
        "colab": {
          "base_uri": "https://localhost:8080/",
          "height": 51
        }
      },
      "source": [
        "cara1 = np.array([[1,2,3,4,5],\n",
        "                 [6,7,8,9,10]])\n",
        "cara1"
      ],
      "execution_count": 27,
      "outputs": [
        {
          "output_type": "execute_result",
          "data": {
            "text/plain": [
              "array([[ 1,  2,  3,  4,  5],\n",
              "       [ 6,  7,  8,  9, 10]])"
            ]
          },
          "metadata": {
            "tags": []
          },
          "execution_count": 27
        }
      ]
    },
    {
      "cell_type": "code",
      "metadata": {
        "scrolled": true,
        "id": "fOmx2RZgR0G3",
        "outputId": "bceef832-9b04-4914-db5d-50f81b73a472",
        "colab": {
          "base_uri": "https://localhost:8080/",
          "height": 51
        }
      },
      "source": [
        "cara2 = np.zeros((2,5))\n",
        "cara2"
      ],
      "execution_count": 28,
      "outputs": [
        {
          "output_type": "execute_result",
          "data": {
            "text/plain": [
              "array([[0., 0., 0., 0., 0.],\n",
              "       [0., 0., 0., 0., 0.]])"
            ]
          },
          "metadata": {
            "tags": []
          },
          "execution_count": 28
        }
      ]
    },
    {
      "cell_type": "code",
      "metadata": {
        "id": "cF7RMyepR0G6",
        "outputId": "51b6abb9-3af0-4bb7-aada-2ac2fe6aeca5",
        "colab": {
          "base_uri": "https://localhost:8080/",
          "height": 102
        }
      },
      "source": [
        "cara3 = np.array([[1,2],\n",
        "                 [2,2],\n",
        "                 [2,1],\n",
        "                 [3,3],\n",
        "                 [4,5]])\n",
        "cara3"
      ],
      "execution_count": 30,
      "outputs": [
        {
          "output_type": "execute_result",
          "data": {
            "text/plain": [
              "array([[1, 2],\n",
              "       [2, 2],\n",
              "       [2, 1],\n",
              "       [3, 3],\n",
              "       [4, 5]])"
            ]
          },
          "metadata": {
            "tags": []
          },
          "execution_count": 30
        }
      ]
    },
    {
      "cell_type": "code",
      "metadata": {
        "scrolled": false,
        "id": "-gGUTU4oR0G_",
        "outputId": "2751d409-5230-4a7b-f588-5e870f598279",
        "colab": {
          "base_uri": "https://localhost:8080/",
          "height": 187
        }
      },
      "source": [
        "cara4 = np.array([[1],\n",
        "                 [2],\n",
        "                 [2],\n",
        "                 [3],\n",
        "                 [4],\n",
        "                 [9],\n",
        "                 [10],\n",
        "                 [10],\n",
        "                 [7],\n",
        "                 [1]])\n",
        "cara4"
      ],
      "execution_count": 31,
      "outputs": [
        {
          "output_type": "execute_result",
          "data": {
            "text/plain": [
              "array([[ 1],\n",
              "       [ 2],\n",
              "       [ 2],\n",
              "       [ 3],\n",
              "       [ 4],\n",
              "       [ 9],\n",
              "       [10],\n",
              "       [10],\n",
              "       [ 7],\n",
              "       [ 1]])"
            ]
          },
          "metadata": {
            "tags": []
          },
          "execution_count": 31
        }
      ]
    },
    {
      "cell_type": "code",
      "metadata": {
        "id": "hsqexfd6R0HE",
        "outputId": "39d03ca8-f1b3-4914-bb12-c0d7f9723bae",
        "colab": {
          "base_uri": "https://localhost:8080/",
          "height": 85
        }
      },
      "source": [
        "print(\"Size cara1: \", cara1.size)\n",
        "print(\"Size cara2: \", cara2.size)\n",
        "print(\"Size cara3: \", cara3.size)\n",
        "print(\"Size cara4: \", cara4.size)"
      ],
      "execution_count": 32,
      "outputs": [
        {
          "output_type": "stream",
          "text": [
            "Size cara1:  10\n",
            "Size cara2:  10\n",
            "Size cara3:  10\n",
            "Size cara4:  10\n"
          ],
          "name": "stdout"
        }
      ]
    },
    {
      "cell_type": "code",
      "metadata": {
        "id": "P0Af2HAQR0HG",
        "outputId": "55cea069-263a-46b8-a251-7825620b4adb",
        "colab": {
          "base_uri": "https://localhost:8080/",
          "height": 85
        }
      },
      "source": [
        "print(\"Shape cara1: \", cara1.shape)\n",
        "print(\"Shape cara2: \", cara2.shape)\n",
        "print(\"Shape cara3: \", cara3.shape)\n",
        "print(\"Shape cara4: \", cara4.shape)"
      ],
      "execution_count": 33,
      "outputs": [
        {
          "output_type": "stream",
          "text": [
            "Shape cara1:  (2, 5)\n",
            "Shape cara2:  (2, 5)\n",
            "Shape cara3:  (5, 2)\n",
            "Shape cara4:  (10, 1)\n"
          ],
          "name": "stdout"
        }
      ]
    },
    {
      "cell_type": "markdown",
      "metadata": {
        "id": "_6n0Ow8MR0HJ"
      },
      "source": [
        "4. Create a 3D matrix of ones which has 2 rows, 3 columns, and 3 depth"
      ]
    },
    {
      "cell_type": "code",
      "metadata": {
        "scrolled": true,
        "id": "B1VXaEc0R0HJ",
        "outputId": "764da9ef-84ba-4700-e52c-a4f2d3728e43",
        "colab": {
          "base_uri": "https://localhost:8080/",
          "height": 136
        }
      },
      "source": [
        "m4 = np.array([[[1,2,3],\n",
        "                [4,5,6],\n",
        "                [7,8,9]],\n",
        "               \n",
        "                [[6,2,3],\n",
        "                [4,5,8],\n",
        "                [8,8,9]]])\n",
        "\n",
        "m4"
      ],
      "execution_count": 34,
      "outputs": [
        {
          "output_type": "execute_result",
          "data": {
            "text/plain": [
              "array([[[1, 2, 3],\n",
              "        [4, 5, 6],\n",
              "        [7, 8, 9]],\n",
              "\n",
              "       [[6, 2, 3],\n",
              "        [4, 5, 8],\n",
              "        [8, 8, 9]]])"
            ]
          },
          "metadata": {
            "tags": []
          },
          "execution_count": 34
        }
      ]
    },
    {
      "cell_type": "code",
      "metadata": {
        "id": "rWBPRGjSR0HO",
        "outputId": "65f322f8-41bc-4605-bec8-448d723449c4",
        "colab": {
          "base_uri": "https://localhost:8080/",
          "height": 34
        }
      },
      "source": [
        "m4.shape"
      ],
      "execution_count": 35,
      "outputs": [
        {
          "output_type": "execute_result",
          "data": {
            "text/plain": [
              "(2, 3, 3)"
            ]
          },
          "metadata": {
            "tags": []
          },
          "execution_count": 35
        }
      ]
    },
    {
      "cell_type": "markdown",
      "metadata": {
        "id": "8IKOLsRWR0HS"
      },
      "source": [
        "5. Make the following arrays from zeros arrays and with for loops\n",
        "![](image/exercise1.png)"
      ]
    },
    {
      "cell_type": "code",
      "metadata": {
        "scrolled": true,
        "id": "UxVM3MRxR0HS",
        "outputId": "1b9c0b38-c1de-4ce2-ef66-c4e33e6d82d6",
        "colab": {
          "base_uri": "https://localhost:8080/",
          "height": 102
        }
      },
      "source": [
        "my_array = np.zeros((5,3))\n",
        "my_array"
      ],
      "execution_count": 36,
      "outputs": [
        {
          "output_type": "execute_result",
          "data": {
            "text/plain": [
              "array([[0., 0., 0.],\n",
              "       [0., 0., 0.],\n",
              "       [0., 0., 0.],\n",
              "       [0., 0., 0.],\n",
              "       [0., 0., 0.]])"
            ]
          },
          "metadata": {
            "tags": []
          },
          "execution_count": 36
        }
      ]
    },
    {
      "cell_type": "code",
      "metadata": {
        "id": "GUyZDDbGR0HV",
        "outputId": "d208178e-30b7-4c24-820a-29aa89feb7a4"
      },
      "source": [
        "for i in my_array:\n",
        "    print(i+2)"
      ],
      "execution_count": null,
      "outputs": [
        {
          "output_type": "stream",
          "text": [
            "[2. 2. 2.]\n",
            "[2. 2. 2.]\n",
            "[2. 2. 2.]\n",
            "[2. 2. 2.]\n",
            "[2. 2. 2.]\n"
          ],
          "name": "stdout"
        }
      ]
    },
    {
      "cell_type": "markdown",
      "metadata": {
        "id": "8ZCc-LQFR0HY"
      },
      "source": [
        "### Using array-generating functions"
      ]
    },
    {
      "cell_type": "markdown",
      "metadata": {
        "id": "2xCKNg_PR0HY"
      },
      "source": [
        "For larger arrays it is inpractical to initialize the data manually, using explicit python lists. Instead we can use one of the many functions in `numpy` that generate arrays of different forms. Some of the more common are:"
      ]
    },
    {
      "cell_type": "markdown",
      "metadata": {
        "id": "pksbKZJ4R0HZ"
      },
      "source": [
        "**arange**"
      ]
    },
    {
      "cell_type": "code",
      "metadata": {
        "id": "6HO_lkiuR0HZ",
        "outputId": "b8f05676-fbc2-4b53-d1a2-fe4b78bcc10e",
        "colab": {
          "base_uri": "https://localhost:8080/",
          "height": 34
        }
      },
      "source": [
        "# create a range\n",
        "\n",
        "x = np.arange(10)\n",
        "\n",
        "x"
      ],
      "execution_count": 37,
      "outputs": [
        {
          "output_type": "execute_result",
          "data": {
            "text/plain": [
              "array([0, 1, 2, 3, 4, 5, 6, 7, 8, 9])"
            ]
          },
          "metadata": {
            "tags": []
          },
          "execution_count": 37
        }
      ]
    },
    {
      "cell_type": "code",
      "metadata": {
        "id": "Xud6L4sKR0Hc",
        "outputId": "09c047bd-1be2-459c-bee3-6d224a63b5ee",
        "colab": {
          "base_uri": "https://localhost:8080/",
          "height": 187
        }
      },
      "source": [
        "for i in range(10):\n",
        "    print(i)"
      ],
      "execution_count": 38,
      "outputs": [
        {
          "output_type": "stream",
          "text": [
            "0\n",
            "1\n",
            "2\n",
            "3\n",
            "4\n",
            "5\n",
            "6\n",
            "7\n",
            "8\n",
            "9\n"
          ],
          "name": "stdout"
        }
      ]
    },
    {
      "cell_type": "code",
      "metadata": {
        "id": "0OkafheSR0Hf",
        "outputId": "1e6041c0-c85f-4765-ecd9-e8f7405a3064"
      },
      "source": [
        "# create a range\n",
        "\n",
        "x = np.arange(10, 20) # arguments: start, stop\n",
        "\n",
        "x"
      ],
      "execution_count": null,
      "outputs": [
        {
          "output_type": "execute_result",
          "data": {
            "text/plain": [
              "array([10, 11, 12, 13, 14, 15, 16, 17, 18, 19])"
            ]
          },
          "metadata": {
            "tags": []
          },
          "execution_count": 13
        }
      ]
    },
    {
      "cell_type": "code",
      "metadata": {
        "id": "R8nkH8EtR0Hq",
        "outputId": "1bbcbf08-8905-47ee-d5a5-d865acbbe81a"
      },
      "source": [
        "# create a range\n",
        "\n",
        "x = np.arange(10, 20, 2) # arguments: start, stop, step\n",
        "\n",
        "x"
      ],
      "execution_count": null,
      "outputs": [
        {
          "output_type": "execute_result",
          "data": {
            "text/plain": [
              "array([10, 12, 14, 16, 18])"
            ]
          },
          "metadata": {
            "tags": []
          },
          "execution_count": 17
        }
      ]
    },
    {
      "cell_type": "code",
      "metadata": {
        "scrolled": true,
        "id": "HrogICdyR0Hs",
        "outputId": "47a7b4ea-758c-483e-9c28-fe86cb568dab"
      },
      "source": [
        "x = np.arange(-1, 1, 0.1)\n",
        "\n",
        "x"
      ],
      "execution_count": null,
      "outputs": [
        {
          "output_type": "execute_result",
          "data": {
            "text/plain": [
              "array([-1.00000000e+00, -9.00000000e-01, -8.00000000e-01, -7.00000000e-01,\n",
              "       -6.00000000e-01, -5.00000000e-01, -4.00000000e-01, -3.00000000e-01,\n",
              "       -2.00000000e-01, -1.00000000e-01, -2.22044605e-16,  1.00000000e-01,\n",
              "        2.00000000e-01,  3.00000000e-01,  4.00000000e-01,  5.00000000e-01,\n",
              "        6.00000000e-01,  7.00000000e-01,  8.00000000e-01,  9.00000000e-01])"
            ]
          },
          "metadata": {
            "tags": []
          },
          "execution_count": 18
        }
      ]
    },
    {
      "cell_type": "markdown",
      "metadata": {
        "id": "bmOLIwGgR0Hx"
      },
      "source": [
        "The number 9.00000000e-01 already is a floating point number.\n",
        "It's written in scientific notation and is equivalent to 9 * 10**-1 or 0.9."
      ]
    },
    {
      "cell_type": "markdown",
      "metadata": {
        "id": "lA9LARbVR0Hy"
      },
      "source": [
        "#### linspace"
      ]
    },
    {
      "cell_type": "code",
      "metadata": {
        "id": "H90Lpy3XR0Hz",
        "outputId": "25a6522e-eb59-4d67-989f-927efd64ab19"
      },
      "source": [
        "# using linspace, both end points ARE included\n",
        "np.linspace(0, 10, 10) #Unlike arange that uses step, linspace uses the number of sample"
      ],
      "execution_count": null,
      "outputs": [
        {
          "output_type": "execute_result",
          "data": {
            "text/plain": [
              "array([ 0.        ,  1.11111111,  2.22222222,  3.33333333,  4.44444444,\n",
              "        5.55555556,  6.66666667,  7.77777778,  8.88888889, 10.        ])"
            ]
          },
          "metadata": {
            "tags": []
          },
          "execution_count": 34
        }
      ]
    },
    {
      "cell_type": "markdown",
      "metadata": {
        "id": "m9XoWAtAR0IA"
      },
      "source": [
        "#### random data"
      ]
    },
    {
      "cell_type": "code",
      "metadata": {
        "id": "o2VxJh7GR0ID"
      },
      "source": [
        "from numpy import random"
      ],
      "execution_count": null,
      "outputs": []
    },
    {
      "cell_type": "code",
      "metadata": {
        "id": "yJwEVfTYR0IG",
        "outputId": "db7df302-2153-4d2e-ad45-62f937ba106f"
      },
      "source": [
        "#uniform random numbers in [0,1]\n",
        "random.rand(5,5)"
      ],
      "execution_count": null,
      "outputs": [
        {
          "output_type": "execute_result",
          "data": {
            "text/plain": [
              "array([[0.68886226, 0.80376421, 0.68511052, 0.05933548, 0.00609701],\n",
              "       [0.71453569, 0.98785297, 0.905757  , 0.56097693, 0.26333855],\n",
              "       [0.13570713, 0.98642657, 0.48538833, 0.20870015, 0.59357451],\n",
              "       [0.51402483, 0.30974573, 0.23055402, 0.52798755, 0.17149748],\n",
              "       [0.24462066, 0.14881871, 0.72438958, 0.42477621, 0.66295972]])"
            ]
          },
          "metadata": {
            "tags": []
          },
          "execution_count": 24
        }
      ]
    },
    {
      "cell_type": "code",
      "metadata": {
        "scrolled": false,
        "id": "uPqE1mnXR0IP",
        "outputId": "0a70bf4c-4d19-4a1b-b038-18550677465f"
      },
      "source": [
        "# standard normal distributed random numbers\n",
        "x = random.randn(5,5)\n",
        "x"
      ],
      "execution_count": null,
      "outputs": [
        {
          "output_type": "execute_result",
          "data": {
            "text/plain": [
              "array([[ 1.22268108, -0.11597117,  1.04261376, -1.85356452,  0.27452336],\n",
              "       [-0.42800941, -0.01834765,  1.15716121,  0.36945645,  1.70644982],\n",
              "       [ 0.344245  ,  0.4125159 , -0.22873644, -2.04407581, -0.46607386],\n",
              "       [-1.59228872,  0.26495182,  0.55572725, -0.00871542, -0.04690909],\n",
              "       [ 0.2984943 , -1.8564972 ,  0.7993992 , -0.90392802, -0.32273761]])"
            ]
          },
          "metadata": {
            "tags": []
          },
          "execution_count": 25
        }
      ]
    },
    {
      "cell_type": "code",
      "metadata": {
        "scrolled": true,
        "id": "apI4RK20R0IX",
        "outputId": "c902828c-e39a-4d2c-e17e-80ac7d7b9167"
      },
      "source": [
        "x.dtype"
      ],
      "execution_count": null,
      "outputs": [
        {
          "output_type": "execute_result",
          "data": {
            "text/plain": [
              "dtype('float64')"
            ]
          },
          "metadata": {
            "tags": []
          },
          "execution_count": 26
        }
      ]
    },
    {
      "cell_type": "code",
      "metadata": {
        "scrolled": true,
        "id": "UheLHHUkR0Id",
        "outputId": "13945645-cd88-48c1-f809-03b5b3cf650f"
      },
      "source": [
        "x = np.ones(2, dtype = np.int64)\n",
        "x"
      ],
      "execution_count": null,
      "outputs": [
        {
          "output_type": "execute_result",
          "data": {
            "text/plain": [
              "array([1, 1], dtype=int64)"
            ]
          },
          "metadata": {
            "tags": []
          },
          "execution_count": 27
        }
      ]
    },
    {
      "cell_type": "code",
      "metadata": {
        "id": "oSw9dCvLR0Iq",
        "outputId": "7e91957c-1e9e-400d-dbb7-26208d46c4a9"
      },
      "source": [
        "random.randint(10)"
      ],
      "execution_count": null,
      "outputs": [
        {
          "output_type": "execute_result",
          "data": {
            "text/plain": [
              "4"
            ]
          },
          "metadata": {
            "tags": []
          },
          "execution_count": 28
        }
      ]
    },
    {
      "cell_type": "code",
      "metadata": {
        "id": "bHrVXQjxR0JV",
        "outputId": "655ccd73-2e7e-4dc8-9cc5-89c91c6e2a22"
      },
      "source": [
        "random.randint(2, 10, size=4)"
      ],
      "execution_count": null,
      "outputs": [
        {
          "output_type": "execute_result",
          "data": {
            "text/plain": [
              "array([5, 3, 9, 7])"
            ]
          },
          "metadata": {
            "tags": []
          },
          "execution_count": 32
        }
      ]
    },
    {
      "cell_type": "code",
      "metadata": {
        "id": "nr201EvwR0Jd",
        "outputId": "851ffe8a-9079-4093-8a65-f0e2063b55fc"
      },
      "source": [
        "random.randint(2, 10, size=(4,2,2))"
      ],
      "execution_count": null,
      "outputs": [
        {
          "output_type": "execute_result",
          "data": {
            "text/plain": [
              "array([[[3, 4],\n",
              "        [4, 5]],\n",
              "\n",
              "       [[9, 7],\n",
              "        [7, 4]],\n",
              "\n",
              "       [[8, 9],\n",
              "        [3, 2]],\n",
              "\n",
              "       [[2, 6],\n",
              "        [2, 5]]])"
            ]
          },
          "metadata": {
            "tags": []
          },
          "execution_count": 36
        }
      ]
    },
    {
      "cell_type": "markdown",
      "metadata": {
        "id": "e8ulIve_R0Ji"
      },
      "source": [
        "## Exercise 2"
      ]
    },
    {
      "cell_type": "markdown",
      "metadata": {
        "id": "7JoVynhFR0Js"
      },
      "source": [
        "1. Generate a 1-D array containing 5 random integers from 0 to 100:"
      ]
    },
    {
      "cell_type": "code",
      "metadata": {
        "id": "ogKDbfANR0Js",
        "outputId": "e2bac611-0015-4a22-c9c2-f50ccba01ac7"
      },
      "source": [
        "random.randint(0,100, size=5)"
      ],
      "execution_count": null,
      "outputs": [
        {
          "output_type": "execute_result",
          "data": {
            "text/plain": [
              "array([83, 75, 78,  6, 31])"
            ]
          },
          "metadata": {
            "tags": []
          },
          "execution_count": 37
        }
      ]
    },
    {
      "cell_type": "markdown",
      "metadata": {
        "id": "fukJu9CuR0J-"
      },
      "source": [
        "2. Generate a 2-D array with 3 rows, each row contains 5 random integers from 0 to 100"
      ]
    },
    {
      "cell_type": "code",
      "metadata": {
        "id": "2eh5kjEtR0J-"
      },
      "source": [
        "random.randint()"
      ],
      "execution_count": null,
      "outputs": []
    },
    {
      "cell_type": "markdown",
      "metadata": {
        "id": "6uE6E-gzR0KM"
      },
      "source": [
        "3. Generate a 1-D array of 30 evenly spaced elements between 1.5 and 5.5, inclusive."
      ]
    },
    {
      "cell_type": "markdown",
      "metadata": {
        "id": "sh93JlmUR0KM"
      },
      "source": [
        "## Adding, removing, and sorting elements"
      ]
    },
    {
      "cell_type": "code",
      "metadata": {
        "id": "JPOISoiyR0KN",
        "outputId": "10ecba18-f3fa-4d28-bea6-afd4ddd3e841"
      },
      "source": [
        "# Append\n",
        "\n",
        "my_arr = np.arange(10)\n",
        "my_arr"
      ],
      "execution_count": null,
      "outputs": [
        {
          "output_type": "execute_result",
          "data": {
            "text/plain": [
              "array([0, 1, 2, 3, 4, 5, 6, 7, 8, 9])"
            ]
          },
          "metadata": {
            "tags": []
          },
          "execution_count": 38
        }
      ]
    },
    {
      "cell_type": "code",
      "metadata": {
        "id": "z6C6j_unR0KT",
        "outputId": "bf987fa8-0e86-482e-88f7-ec510a31500e"
      },
      "source": [
        "np.append(my_arr, (10, 11, 12))"
      ],
      "execution_count": null,
      "outputs": [
        {
          "output_type": "execute_result",
          "data": {
            "text/plain": [
              "array([ 0,  1,  2,  3,  4,  5,  6,  7,  8,  9, 10, 11, 12])"
            ]
          },
          "metadata": {
            "tags": []
          },
          "execution_count": 40
        }
      ]
    },
    {
      "cell_type": "markdown",
      "metadata": {
        "id": "nJPhBvqlR0KV"
      },
      "source": [
        "When axis is specified, values must have the correct shape."
      ]
    },
    {
      "cell_type": "code",
      "metadata": {
        "id": "gNyBxGM1R0KV"
      },
      "source": [
        "my_arr1 = np.array([[1,2,3],\n",
        "                    [2,4,6]])"
      ],
      "execution_count": null,
      "outputs": []
    },
    {
      "cell_type": "code",
      "metadata": {
        "scrolled": true,
        "id": "44-M2BQNR0Kc",
        "outputId": "50613377-34b7-4d50-becd-4b682201c231"
      },
      "source": [
        "np.append(my_arr1, [[2,1,1]], axis=0)"
      ],
      "execution_count": null,
      "outputs": [
        {
          "output_type": "execute_result",
          "data": {
            "text/plain": [
              "array([[1, 2, 3],\n",
              "       [2, 4, 6],\n",
              "       [2, 1, 1]])"
            ]
          },
          "metadata": {
            "tags": []
          },
          "execution_count": 43
        }
      ]
    },
    {
      "cell_type": "code",
      "metadata": {
        "id": "bDime9THR0Kf",
        "outputId": "7067c79f-4c4d-4311-de33-41fcb9d46124"
      },
      "source": [
        "a = np.array([[1, 2, 8], [5, 8, 10]])\n",
        "b = np.array([[8, 2, 1], [3, 9, 1]])\n",
        "c = np.concatenate((a, b), axis = 0)\n",
        "print(c)"
      ],
      "execution_count": null,
      "outputs": [
        {
          "output_type": "stream",
          "text": [
            "[[ 1  2  8]\n",
            " [ 5  8 10]\n",
            " [ 8  2  1]\n",
            " [ 3  9  1]]\n"
          ],
          "name": "stdout"
        }
      ]
    },
    {
      "cell_type": "code",
      "metadata": {
        "id": "hf87zPXbR0Kh",
        "outputId": "1dc401d1-4329-4b27-b9d1-0213942b44ce"
      },
      "source": [
        "x = np.array([[1,2,3], [1,1,1]])\n",
        "y = np.array([[3,3,1], [1,2,3]])\n",
        "x = np.concatenate((x, y), axis = 1)\n",
        "print(x)"
      ],
      "execution_count": null,
      "outputs": [
        {
          "output_type": "stream",
          "text": [
            "[[1 2 3 3 3 1]\n",
            " [1 1 1 1 2 3]]\n"
          ],
          "name": "stdout"
        }
      ]
    },
    {
      "cell_type": "code",
      "metadata": {
        "id": "_ndnJ7QPR0Kk"
      },
      "source": [
        "# sorting np.sort()\n",
        "arr = np.array([2, 1, 5, 3, 7, 4, 6, 8])"
      ],
      "execution_count": null,
      "outputs": []
    },
    {
      "cell_type": "code",
      "metadata": {
        "id": "2wD7ir81R0Kw",
        "outputId": "22cdcea4-7188-404d-a273-596ceaf97102"
      },
      "source": [
        "np.sort(arr)"
      ],
      "execution_count": null,
      "outputs": [
        {
          "output_type": "execute_result",
          "data": {
            "text/plain": [
              "array([1, 2, 3, 4, 5, 6, 7, 8])"
            ]
          },
          "metadata": {
            "tags": []
          },
          "execution_count": 49
        }
      ]
    },
    {
      "cell_type": "code",
      "metadata": {
        "id": "sHHhPGJnR0K0"
      },
      "source": [
        "#Concatenate arrays\n",
        "\n",
        "a = np.array([1, 2, 3, 4])\n",
        "b = np.array([5, 6, 7, 8])"
      ],
      "execution_count": null,
      "outputs": []
    },
    {
      "cell_type": "code",
      "metadata": {
        "id": "kI8hdxULR0K2",
        "outputId": "37ecbeb3-4052-4d47-cb25-448d16bfdb67"
      },
      "source": [
        "np.concatenate((a, b))"
      ],
      "execution_count": null,
      "outputs": [
        {
          "output_type": "execute_result",
          "data": {
            "text/plain": [
              "array([1, 2, 3, 4, 5, 6, 7, 8])"
            ]
          },
          "metadata": {
            "tags": []
          },
          "execution_count": 51
        }
      ]
    },
    {
      "cell_type": "code",
      "metadata": {
        "id": "6caQyBr2R0K9",
        "outputId": "21bc953f-d067-4d5f-c600-5b6a20630b86"
      },
      "source": [
        "x = np.array([[1, 2], [3, 4]])\n",
        "y = np.array([[5, 6]])\n",
        "\n",
        "np.concatenate((x,y), axis=0) #if axis = None, then arrays are flatten before use"
      ],
      "execution_count": null,
      "outputs": [
        {
          "output_type": "execute_result",
          "data": {
            "text/plain": [
              "array([[1, 2],\n",
              "       [3, 4],\n",
              "       [5, 6]])"
            ]
          },
          "metadata": {
            "tags": []
          },
          "execution_count": 54
        }
      ]
    },
    {
      "cell_type": "markdown",
      "metadata": {
        "id": "fQK1KPgcR0K_"
      },
      "source": [
        "### delete elements of an array"
      ]
    },
    {
      "cell_type": "code",
      "metadata": {
        "id": "kwfnDZtbR0K_",
        "outputId": "e188f4f7-cd6c-4ada-ea06-aff4f8d2603f"
      },
      "source": [
        "arr = np.array([[1,2,3,4], [5,6,7,8], [9,10,11,12]])\n",
        "arr"
      ],
      "execution_count": null,
      "outputs": [
        {
          "output_type": "execute_result",
          "data": {
            "text/plain": [
              "array([[ 1,  2,  3,  4],\n",
              "       [ 5,  6,  7,  8],\n",
              "       [ 9, 10, 11, 12]])"
            ]
          },
          "metadata": {
            "tags": []
          },
          "execution_count": 55
        }
      ]
    },
    {
      "cell_type": "code",
      "metadata": {
        "id": "VAHDVAHUR0LC",
        "outputId": "6ac0079f-0668-4a3c-fabf-ee0479acb6f3"
      },
      "source": [
        "np.delete(arr, 1, axis=0)"
      ],
      "execution_count": null,
      "outputs": [
        {
          "output_type": "execute_result",
          "data": {
            "text/plain": [
              "array([[ 1,  2,  3,  4],\n",
              "       [ 9, 10, 11, 12]])"
            ]
          },
          "metadata": {
            "tags": []
          },
          "execution_count": 56
        }
      ]
    },
    {
      "cell_type": "markdown",
      "metadata": {
        "id": "cu0sn66IR0LE"
      },
      "source": [
        "## Shape and Size of an array"
      ]
    },
    {
      "cell_type": "markdown",
      "metadata": {
        "id": "Ue9XvgTXR0LE"
      },
      "source": [
        "`ndarray.ndim` : the number of axes \\\n",
        "`ndarray.size` : the total number of element \\\n",
        "`ndarray.shape` : the number of elements stored along each dimension of the array. If, for example, you have a 2-D array with 2 rows and 3 columns, the shape of your array is (2, 3)."
      ]
    },
    {
      "cell_type": "code",
      "metadata": {
        "id": "rh062cNhR0LF"
      },
      "source": [
        "my_array = np.array([[[0, 1, 2, 3],\n",
        "                      [4, 5, 6, 7]],\n",
        "                          \n",
        "                      [[0, 1, 2, 3],\n",
        "                      [4, 5, 6, 7]],\n",
        "                         \n",
        "                      [[0 ,1 ,2, 3],\n",
        "                      [4, 5, 6, 7]]])"
      ],
      "execution_count": null,
      "outputs": []
    },
    {
      "cell_type": "code",
      "metadata": {
        "id": "cazb5ydQR0LG",
        "outputId": "4fb8ffaa-29f8-407f-d483-807d6103ef14"
      },
      "source": [
        "my_array.ndim"
      ],
      "execution_count": null,
      "outputs": [
        {
          "output_type": "execute_result",
          "data": {
            "text/plain": [
              "3"
            ]
          },
          "metadata": {
            "tags": []
          },
          "execution_count": 58
        }
      ]
    },
    {
      "cell_type": "code",
      "metadata": {
        "id": "hOA9Nl0FR0LP",
        "outputId": "f987f58e-e83b-448e-a11d-0704da1b2a4e"
      },
      "source": [
        "my_array.size"
      ],
      "execution_count": null,
      "outputs": [
        {
          "output_type": "execute_result",
          "data": {
            "text/plain": [
              "24"
            ]
          },
          "metadata": {
            "tags": []
          },
          "execution_count": 59
        }
      ]
    },
    {
      "cell_type": "code",
      "metadata": {
        "id": "4af-zeCNR0LT",
        "outputId": "c164f6d6-4b14-4800-abfc-13651616e869"
      },
      "source": [
        "my_array.shape"
      ],
      "execution_count": null,
      "outputs": [
        {
          "output_type": "execute_result",
          "data": {
            "text/plain": [
              "(3, 2, 4)"
            ]
          },
          "metadata": {
            "tags": []
          },
          "execution_count": 60
        }
      ]
    },
    {
      "cell_type": "markdown",
      "metadata": {
        "id": "JAeCSrC9R0LV"
      },
      "source": [
        "### Reshaping an array"
      ]
    },
    {
      "cell_type": "markdown",
      "metadata": {
        "id": "B9cqSdJOR0LW"
      },
      "source": [
        "When you use the reshape method, the array you want to produce needs to have the same number of elements as the original array. If you start with an array with 12 elements, you’ll need to make sure that your new array also has a total of 12 elements."
      ]
    },
    {
      "cell_type": "code",
      "metadata": {
        "id": "nOk615Q9R0LW",
        "outputId": "51f0521b-b9c2-428d-f297-94c004f3ea8d"
      },
      "source": [
        "a = np.arange(6)\n",
        "print(a)"
      ],
      "execution_count": null,
      "outputs": [
        {
          "output_type": "stream",
          "text": [
            "[0 1 2 3 4 5]\n"
          ],
          "name": "stdout"
        }
      ]
    },
    {
      "cell_type": "code",
      "metadata": {
        "scrolled": true,
        "id": "2yHsgMpyR0La",
        "outputId": "31af148b-e498-4b7c-bd17-e09bfe8ef340"
      },
      "source": [
        "a.reshape(2, 3)"
      ],
      "execution_count": null,
      "outputs": [
        {
          "output_type": "execute_result",
          "data": {
            "text/plain": [
              "array([[0, 1, 2],\n",
              "       [3, 4, 5]])"
            ]
          },
          "metadata": {
            "tags": []
          },
          "execution_count": 62
        }
      ]
    },
    {
      "cell_type": "markdown",
      "metadata": {
        "id": "DIUqDS08R0Le"
      },
      "source": [
        "## > Exercise 3"
      ]
    },
    {
      "cell_type": "markdown",
      "metadata": {
        "id": "SoJovI3nR0Le"
      },
      "source": [
        "1. create a 3x3 matrix with values ranging from 2 to 10"
      ]
    },
    {
      "cell_type": "code",
      "metadata": {
        "id": "Q4p8qy1iR0Lf",
        "outputId": "8aca8b99-eaac-4227-b41e-e4f77ac436bc"
      },
      "source": [
        "x =np.arange(2,11).reshape(3,3)\n",
        "x"
      ],
      "execution_count": null,
      "outputs": [
        {
          "output_type": "execute_result",
          "data": {
            "text/plain": [
              "array([[ 2,  3,  4],\n",
              "       [ 5,  6,  7],\n",
              "       [ 8,  9, 10]])"
            ]
          },
          "metadata": {
            "tags": []
          },
          "execution_count": 67
        }
      ]
    },
    {
      "cell_type": "markdown",
      "metadata": {
        "id": "OfpZpzOhR0Lj"
      },
      "source": [
        "2. concentenate the following arrays \\\n",
        "**[[0, 1, 3], [5, 7, 9]], [[0, 2, 4], [6, 8, 10]]**\n",
        "![](image/lat3.png)"
      ]
    },
    {
      "cell_type": "markdown",
      "metadata": {
        "id": "iLqCL4cNR0Lk"
      },
      "source": [
        "### Converting a 1D array into 2D array (add a new axis to an array)"
      ]
    },
    {
      "cell_type": "markdown",
      "metadata": {
        "id": "rG6KcOk-R0Lk"
      },
      "source": [
        "You can use `np.newaxis` and `np.expand_dims` to increase the dimensions of your existing array."
      ]
    },
    {
      "cell_type": "markdown",
      "metadata": {
        "id": "oVFcTD8yR0Lm"
      },
      "source": [
        "`np.newaxis` will increase the dimension of array by one whe it is used once. \\\n",
        "1D -> 2D, 2D -> 3D, and so on"
      ]
    },
    {
      "cell_type": "code",
      "metadata": {
        "id": "kPjidQbqR0Lm",
        "outputId": "4df9862a-1278-4130-c976-c84aee7096a6"
      },
      "source": [
        "a = np.array([1, 2, 3, 4, 5, 6])\n",
        "a.shape"
      ],
      "execution_count": null,
      "outputs": [
        {
          "output_type": "execute_result",
          "data": {
            "text/plain": [
              "(6,)"
            ]
          },
          "metadata": {
            "tags": []
          },
          "execution_count": 68
        }
      ]
    },
    {
      "cell_type": "code",
      "metadata": {
        "id": "WhB_5iXxR0MA",
        "outputId": "94509a16-2b9a-4dd2-edfb-2b98bf4b8138"
      },
      "source": [
        "# convert a 1D array to a row vector by inserting an axis along the first dimension\n",
        "a2 = a[np.newaxis, :]\n",
        "a2"
      ],
      "execution_count": null,
      "outputs": [
        {
          "output_type": "execute_result",
          "data": {
            "text/plain": [
              "array([[1, 2, 3, 4, 5, 6]])"
            ]
          },
          "metadata": {
            "tags": []
          },
          "execution_count": 69
        }
      ]
    },
    {
      "cell_type": "code",
      "metadata": {
        "id": "9QgakmDJR0MF",
        "outputId": "7ad08761-d4b8-43e8-d25d-a399c4410c60"
      },
      "source": [
        "a2.shape"
      ],
      "execution_count": null,
      "outputs": [
        {
          "output_type": "execute_result",
          "data": {
            "text/plain": [
              "(1, 6)"
            ]
          },
          "metadata": {
            "tags": []
          },
          "execution_count": 72
        }
      ]
    },
    {
      "cell_type": "code",
      "metadata": {
        "scrolled": true,
        "id": "v1fhy42eR0MI",
        "outputId": "87b74399-c677-4abd-c184-6d7b9aa9b8ee"
      },
      "source": [
        "# for a column vector, you can insert an axis along the second dimension\n",
        "a3 = a[:, np.newaxis]\n",
        "a3"
      ],
      "execution_count": null,
      "outputs": [
        {
          "output_type": "execute_result",
          "data": {
            "text/plain": [
              "array([[1],\n",
              "       [2],\n",
              "       [3],\n",
              "       [4],\n",
              "       [5],\n",
              "       [6]])"
            ]
          },
          "metadata": {
            "tags": []
          },
          "execution_count": 70
        }
      ]
    },
    {
      "cell_type": "code",
      "metadata": {
        "id": "K2ayH-WBR0ML",
        "outputId": "31bcd7a8-039b-4e26-87f1-41a3a539c27c"
      },
      "source": [
        "a3.shape"
      ],
      "execution_count": null,
      "outputs": [
        {
          "output_type": "execute_result",
          "data": {
            "text/plain": [
              "(6, 1)"
            ]
          },
          "metadata": {
            "tags": []
          },
          "execution_count": 71
        }
      ]
    },
    {
      "cell_type": "markdown",
      "metadata": {
        "id": "37WaKVxGR0Mb"
      },
      "source": [
        "using `np.expand_dims`"
      ]
    },
    {
      "cell_type": "code",
      "metadata": {
        "id": "EVGqGxjqR0Mf",
        "outputId": "699c7d41-43df-4c5c-ccac-cdcd494124ea"
      },
      "source": [
        "a = np.array([1, 2, 3, 4, 5, 6])\n",
        "a.shape"
      ],
      "execution_count": null,
      "outputs": [
        {
          "output_type": "execute_result",
          "data": {
            "text/plain": [
              "(6,)"
            ]
          },
          "metadata": {
            "tags": []
          },
          "execution_count": 73
        }
      ]
    },
    {
      "cell_type": "code",
      "metadata": {
        "id": "nRkzaFRCR0Mj",
        "outputId": "9adba0f3-5c7f-45f0-9c8c-89333fdcefba"
      },
      "source": [
        "# You can use np.expand_dims to add an axis at index position 1\n",
        "b = np.expand_dims(a, axis=1)\n",
        "b.shape"
      ],
      "execution_count": null,
      "outputs": [
        {
          "output_type": "execute_result",
          "data": {
            "text/plain": [
              "(6, 1)"
            ]
          },
          "metadata": {
            "tags": []
          },
          "execution_count": 76
        }
      ]
    },
    {
      "cell_type": "code",
      "metadata": {
        "id": "4y9BgX3eR0Mp",
        "outputId": "7d8482fc-b75a-41e2-adcd-b9a09c9fb8a4"
      },
      "source": [
        "b"
      ],
      "execution_count": null,
      "outputs": [
        {
          "output_type": "execute_result",
          "data": {
            "text/plain": [
              "array([[1],\n",
              "       [2],\n",
              "       [3],\n",
              "       [4],\n",
              "       [5],\n",
              "       [6]])"
            ]
          },
          "metadata": {
            "tags": []
          },
          "execution_count": 77
        }
      ]
    },
    {
      "cell_type": "code",
      "metadata": {
        "id": "eD3R3siXR0Mt",
        "outputId": "c6045e41-38ab-4e17-d197-333063f079f6"
      },
      "source": [
        "# You can add an axis at index position 0 with\n",
        "c = np.expand_dims(a, axis=0)\n",
        "c.shape"
      ],
      "execution_count": null,
      "outputs": [
        {
          "output_type": "execute_result",
          "data": {
            "text/plain": [
              "(1, 6)"
            ]
          },
          "metadata": {
            "tags": []
          },
          "execution_count": 78
        }
      ]
    },
    {
      "cell_type": "markdown",
      "metadata": {
        "id": "o-BzHUZJR0Mz"
      },
      "source": [
        "## Indexing and slicing"
      ]
    },
    {
      "cell_type": "code",
      "metadata": {
        "id": "bGLXRxEiR0M0"
      },
      "source": [
        "data = np.array([1, 2, 3, 4, 5])"
      ],
      "execution_count": null,
      "outputs": []
    },
    {
      "cell_type": "code",
      "metadata": {
        "id": "txpSrYrOR0M3",
        "outputId": "c10e1092-4c10-4013-abb9-cce9307bc823"
      },
      "source": [
        "data[1]"
      ],
      "execution_count": null,
      "outputs": [
        {
          "output_type": "execute_result",
          "data": {
            "text/plain": [
              "2"
            ]
          },
          "metadata": {
            "tags": []
          },
          "execution_count": 80
        }
      ]
    },
    {
      "cell_type": "code",
      "metadata": {
        "id": "SYKxmwHdR0M6",
        "outputId": "f0540a36-0b9f-4edd-8c5c-004b3eb0efff"
      },
      "source": [
        "data[:3]"
      ],
      "execution_count": null,
      "outputs": [
        {
          "output_type": "execute_result",
          "data": {
            "text/plain": [
              "array([1, 2, 3])"
            ]
          },
          "metadata": {
            "tags": []
          },
          "execution_count": 81
        }
      ]
    },
    {
      "cell_type": "code",
      "metadata": {
        "id": "-3LNZjEyR0M8",
        "outputId": "513134f6-c1f6-4a20-b7ae-08b36af68c7b"
      },
      "source": [
        "data[1:]"
      ],
      "execution_count": null,
      "outputs": [
        {
          "output_type": "execute_result",
          "data": {
            "text/plain": [
              "array([2, 3, 4, 5])"
            ]
          },
          "metadata": {
            "tags": []
          },
          "execution_count": 82
        }
      ]
    },
    {
      "cell_type": "code",
      "metadata": {
        "id": "fNZp8B89R0NC",
        "outputId": "d05dfdca-1399-4f57-8c58-a79a9c8119a2"
      },
      "source": [
        "data[-2:]"
      ],
      "execution_count": null,
      "outputs": [
        {
          "output_type": "execute_result",
          "data": {
            "text/plain": [
              "array([4, 5])"
            ]
          },
          "metadata": {
            "tags": []
          },
          "execution_count": 84
        }
      ]
    },
    {
      "cell_type": "markdown",
      "metadata": {
        "id": "B-wKr4THR0NF"
      },
      "source": [
        "![](image/numpy.jpg)"
      ]
    },
    {
      "cell_type": "markdown",
      "metadata": {
        "id": "Gkr1gprBR0NF"
      },
      "source": [
        "You may want to take a section of your array or specific array elements to use in further analysis or additional operations. To do that, you’ll need to subset, slice, and/or index your arrays.\n",
        "\n",
        "If you want to select values from your array that fulfill certain conditions, it’s straightforward with NumPy."
      ]
    },
    {
      "cell_type": "code",
      "metadata": {
        "id": "2rreYuPOR0NG"
      },
      "source": [
        "a = np.array([[1 , 2, 3, 4],\n",
        "              [5, 6, 7, 8],\n",
        "              [9, 10, 11, 12]])"
      ],
      "execution_count": null,
      "outputs": []
    },
    {
      "cell_type": "markdown",
      "metadata": {
        "id": "2nHq6tpFR0NI"
      },
      "source": [
        "You can easily print all of the values in the array that are less than 5."
      ]
    },
    {
      "cell_type": "code",
      "metadata": {
        "id": "2iV_kzj7R0NI",
        "outputId": "acdb8f16-1b34-46a4-fefc-94ed6866f1a9"
      },
      "source": [
        "print(a[a < 5])"
      ],
      "execution_count": null,
      "outputs": [
        {
          "output_type": "stream",
          "text": [
            "[1 2 3 4]\n"
          ],
          "name": "stdout"
        }
      ]
    },
    {
      "cell_type": "markdown",
      "metadata": {
        "id": "o-HEtBrHR0NK"
      },
      "source": [
        "You can also select, for example, numbers that are equal to or greater than 5, and use that condition to index an array."
      ]
    },
    {
      "cell_type": "code",
      "metadata": {
        "id": "ICtblyNlR0NO",
        "outputId": "9bbed5ae-864c-4d78-ab43-cc1f90d52fee"
      },
      "source": [
        "five_up = (a >= 5)\n",
        "print(a[five_up])"
      ],
      "execution_count": null,
      "outputs": [
        {
          "output_type": "stream",
          "text": [
            "[ 5  6  7  8  9 10 11 12]\n"
          ],
          "name": "stdout"
        }
      ]
    },
    {
      "cell_type": "code",
      "metadata": {
        "id": "fQBu9FtfR0NU",
        "outputId": "61273939-78d7-45d3-cad9-14a1c5c9f296"
      },
      "source": [
        "divisible_by_2 = a[a%2==0]\n",
        "print(divisible_by_2)"
      ],
      "execution_count": null,
      "outputs": [
        {
          "output_type": "stream",
          "text": [
            "[ 2  4  6  8 10 12]\n"
          ],
          "name": "stdout"
        }
      ]
    },
    {
      "cell_type": "markdown",
      "metadata": {
        "id": "rsKQKyfUR0Nc"
      },
      "source": [
        "Or you can select elements that satisfy two conditions using the & and | operators:"
      ]
    },
    {
      "cell_type": "code",
      "metadata": {
        "id": "71pOhll1R0Nd",
        "outputId": "33972916-fedc-4d97-eb06-ccb8db45f6e4"
      },
      "source": [
        "c = a[(a > 2) & (a < 11)]\n",
        "print(c)"
      ],
      "execution_count": null,
      "outputs": [
        {
          "output_type": "stream",
          "text": [
            "[ 3  4  5  6  7  8  9 10]\n"
          ],
          "name": "stdout"
        }
      ]
    },
    {
      "cell_type": "code",
      "metadata": {
        "scrolled": false,
        "id": "1YZyGTJrR0Nr",
        "outputId": "ac063467-63dc-4f2b-f8bb-6aa3d2622879"
      },
      "source": [
        "# pipe, or, vertical bar: |\n",
        "five_up = (a > 5) | (a == 5)\n",
        "print(five_up)"
      ],
      "execution_count": null,
      "outputs": [
        {
          "output_type": "stream",
          "text": [
            "[[False False False False]\n",
            " [ True  True  True  True]\n",
            " [ True  True  True  True]]\n"
          ],
          "name": "stdout"
        }
      ]
    },
    {
      "cell_type": "code",
      "metadata": {
        "id": "KVbzx08RR0N3",
        "outputId": "1492a7ab-64de-4c30-bb99-8d066c5a9e33"
      },
      "source": [
        "a"
      ],
      "execution_count": null,
      "outputs": [
        {
          "output_type": "execute_result",
          "data": {
            "text/plain": [
              "array([[ 1,  2,  3,  4],\n",
              "       [ 5,  6,  7,  8],\n",
              "       [ 9, 10, 11, 12]])"
            ]
          },
          "metadata": {
            "tags": []
          },
          "execution_count": 91
        }
      ]
    },
    {
      "cell_type": "code",
      "metadata": {
        "id": "20mnjk_CR0N5",
        "outputId": "a4b20196-8aa1-40fc-945a-fbc086c8f6ac"
      },
      "source": [
        "a[1,1:3]"
      ],
      "execution_count": null,
      "outputs": [
        {
          "output_type": "execute_result",
          "data": {
            "text/plain": [
              "array([6, 7])"
            ]
          },
          "metadata": {
            "tags": []
          },
          "execution_count": 92
        }
      ]
    },
    {
      "cell_type": "code",
      "metadata": {
        "scrolled": true,
        "id": "wT7N6qNVR0N8",
        "outputId": "aa46aae3-b2a9-4024-863c-69080fd48e7f"
      },
      "source": [
        "z = np.array([[[0, 1, 3],\n",
        "               [5, 7, 9]],\n",
        "              \n",
        "              [[0, 2, 4],\n",
        "               [6, 8, 10]]])\n",
        "z"
      ],
      "execution_count": null,
      "outputs": [
        {
          "output_type": "execute_result",
          "data": {
            "text/plain": [
              "array([[[ 0,  1,  3],\n",
              "        [ 5,  7,  9]],\n",
              "\n",
              "       [[ 0,  2,  4],\n",
              "        [ 6,  8, 10]]])"
            ]
          },
          "metadata": {
            "tags": []
          },
          "execution_count": 93
        }
      ]
    },
    {
      "cell_type": "code",
      "metadata": {
        "id": "ZBW0___KR0N_",
        "outputId": "3a672b17-e4dc-47b5-b54b-1f9f614e4b6d"
      },
      "source": [
        "z.shape"
      ],
      "execution_count": null,
      "outputs": [
        {
          "output_type": "execute_result",
          "data": {
            "text/plain": [
              "(2, 2, 3)"
            ]
          },
          "metadata": {
            "tags": []
          },
          "execution_count": 108
        }
      ]
    },
    {
      "cell_type": "code",
      "metadata": {
        "scrolled": true,
        "id": "KEFLMzliR0OH",
        "outputId": "36e3f06f-0175-4df6-d0fd-578822b8d429"
      },
      "source": [
        "z[0] # access row 0"
      ],
      "execution_count": null,
      "outputs": [
        {
          "output_type": "execute_result",
          "data": {
            "text/plain": [
              "array([[0, 1, 3],\n",
              "       [5, 7, 9]])"
            ]
          },
          "metadata": {
            "tags": []
          },
          "execution_count": 94
        }
      ]
    },
    {
      "cell_type": "code",
      "metadata": {
        "id": "Ig873rMGR0OJ",
        "outputId": "b8ce2d8f-5f17-4d38-a0e3-4034afa74cb0"
      },
      "source": [
        "z[0,1] # access row 0, column 1"
      ],
      "execution_count": null,
      "outputs": [
        {
          "output_type": "execute_result",
          "data": {
            "text/plain": [
              "array([5, 7, 9])"
            ]
          },
          "metadata": {
            "tags": []
          },
          "execution_count": 95
        }
      ]
    },
    {
      "cell_type": "code",
      "metadata": {
        "id": "Gi7dk1-eR0OM",
        "outputId": "d1bc3af8-321a-4f70-d56f-624578968f13"
      },
      "source": [
        "z[1, 1, 1:] #access row 1, column 1, depth 1-2"
      ],
      "execution_count": null,
      "outputs": [
        {
          "output_type": "execute_result",
          "data": {
            "text/plain": [
              "array([ 8, 10])"
            ]
          },
          "metadata": {
            "tags": []
          },
          "execution_count": 96
        }
      ]
    },
    {
      "cell_type": "code",
      "metadata": {
        "id": "jCRtW9EWR0OO",
        "outputId": "0d0683cf-0cab-44e4-bbf2-2f4627a9cddc"
      },
      "source": [
        "a = np.array([1,3,1,4,5,2,1])\n",
        "a"
      ],
      "execution_count": null,
      "outputs": [
        {
          "output_type": "execute_result",
          "data": {
            "text/plain": [
              "array([1, 3, 1, 4, 5, 2, 1])"
            ]
          },
          "metadata": {
            "tags": []
          },
          "execution_count": 106
        }
      ]
    },
    {
      "cell_type": "code",
      "metadata": {
        "id": "0VzLrwrXR0OU",
        "outputId": "d9987f55-a231-4118-ea9f-10cf7b2abd71"
      },
      "source": [
        "a[1:4]"
      ],
      "execution_count": null,
      "outputs": [
        {
          "output_type": "execute_result",
          "data": {
            "text/plain": [
              "array([3, 1, 4])"
            ]
          },
          "metadata": {
            "tags": []
          },
          "execution_count": 107
        }
      ]
    },
    {
      "cell_type": "code",
      "metadata": {
        "id": "9gzR71q4R0OX",
        "outputId": "70ba821a-eeda-4be7-8cc0-6ed50c49b559"
      },
      "source": [
        "a"
      ],
      "execution_count": null,
      "outputs": [
        {
          "output_type": "execute_result",
          "data": {
            "text/plain": [
              "array([ 1,  3,  1, 10,  5,  2,  1])"
            ]
          },
          "metadata": {
            "tags": []
          },
          "execution_count": 103
        }
      ]
    },
    {
      "cell_type": "markdown",
      "metadata": {
        "id": "M9jOq6OqR0OZ"
      },
      "source": [
        "## > Exercise 4"
      ]
    },
    {
      "cell_type": "markdown",
      "metadata": {
        "id": "UdEULeLgR0OZ"
      },
      "source": [
        "1. create a null vector / 1D array of size 10 and update fifth value to 11."
      ]
    },
    {
      "cell_type": "code",
      "metadata": {
        "id": "IO4RdTR1p1ee",
        "outputId": "ce992544-2b32-4ca1-a141-de545d58e1bf",
        "colab": {
          "base_uri": "https://localhost:8080/",
          "height": 68
        }
      },
      "source": [
        "x = np.zeros(10)\n",
        "print(x)\n",
        "print(\"Update fifth value to 11\")\n",
        "x[5] = 11\n",
        "print(x)"
      ],
      "execution_count": 40,
      "outputs": [
        {
          "output_type": "stream",
          "text": [
            "[0. 0. 0. 0. 0. 0. 0. 0. 0. 0.]\n",
            "Update fifth value to 11\n",
            "[ 0.  0.  0.  0.  0. 11.  0.  0.  0.  0.]\n"
          ],
          "name": "stdout"
        }
      ]
    },
    {
      "cell_type": "markdown",
      "metadata": {
        "id": "DwugzIv4R0Oa"
      },
      "source": [
        "2. Write a NumPy program to create a 2x3 arrays and change it into 3x2 arrays"
      ]
    },
    {
      "cell_type": "code",
      "metadata": {
        "id": "CaP0Q9ciq3ee",
        "outputId": "6fc70b91-2e79-4155-d823-da8674acb55e",
        "colab": {
          "base_uri": "https://localhost:8080/",
          "height": 136
        }
      },
      "source": [
        "x = np.array([1, 2, 3, 4, 5, 6])\n",
        "y = np.reshape(x,(2,3))\n",
        "print(\"Reshape 2x3:\")\n",
        "print(y)\n",
        "z = np.reshape(x,(3,2))\n",
        "print(\"Reshape 3x2:\")\n",
        "print(z)"
      ],
      "execution_count": 41,
      "outputs": [
        {
          "output_type": "stream",
          "text": [
            "Reshape 2x3:\n",
            "[[1 2 3]\n",
            " [4 5 6]]\n",
            "Reshape 3x2:\n",
            "[[1 2]\n",
            " [3 4]\n",
            " [5 6]]\n"
          ],
          "name": "stdout"
        }
      ]
    },
    {
      "cell_type": "markdown",
      "metadata": {
        "id": "oRBIAtwyR0Oa"
      },
      "source": [
        "3. Write a NumPy program to create a 2d array with 1 on the border and 0 inside.\n",
        "![](image/lat1.png)"
      ]
    },
    {
      "cell_type": "code",
      "metadata": {
        "id": "ToxZbi1BrT2A",
        "outputId": "bffd5307-24a4-4eec-bb89-6af10e06fa8b",
        "colab": {
          "base_uri": "https://localhost:8080/",
          "height": 221
        }
      },
      "source": [
        "x = np.ones((5,5))\n",
        "print(\"Original array:\")\n",
        "print(x)\n",
        "print(\"1 on the border and 0 inside in the array\")\n",
        "x[1:-1,1:-1] = 0\n",
        "print(x)"
      ],
      "execution_count": 42,
      "outputs": [
        {
          "output_type": "stream",
          "text": [
            "Original array:\n",
            "[[1. 1. 1. 1. 1.]\n",
            " [1. 1. 1. 1. 1.]\n",
            " [1. 1. 1. 1. 1.]\n",
            " [1. 1. 1. 1. 1.]\n",
            " [1. 1. 1. 1. 1.]]\n",
            "1 on the border and 0 inside in the array\n",
            "[[1. 1. 1. 1. 1.]\n",
            " [1. 0. 0. 0. 1.]\n",
            " [1. 0. 0. 0. 1.]\n",
            " [1. 0. 0. 0. 1.]\n",
            " [1. 1. 1. 1. 1.]]\n"
          ],
          "name": "stdout"
        }
      ]
    },
    {
      "cell_type": "markdown",
      "metadata": {
        "id": "rTXfWC75R0Ob"
      },
      "source": [
        "4. Take a look at the following matrix. Access the [2, 1,1]"
      ]
    },
    {
      "cell_type": "code",
      "metadata": {
        "id": "hJPbJKpuR0Ob",
        "outputId": "fd623918-c5b1-4162-8bb7-fb76c83d58a8",
        "colab": {
          "base_uri": "https://localhost:8080/",
          "height": 34
        }
      },
      "source": [
        "z = np.array([[[0, 1, 3],\n",
        "               [5, 7, 9],\n",
        "               [6, 8, 10]],\n",
        "              \n",
        "              [[0, 2, 4],\n",
        "               [6, 8, 10],\n",
        "               [0, 1, 3]],\n",
        "             \n",
        "              [[1, 1, 2],\n",
        "               [5, 2, 9],\n",
        "               [1, 3, 3]]])\n",
        "z[2,1,1]"
      ],
      "execution_count": 45,
      "outputs": [
        {
          "output_type": "execute_result",
          "data": {
            "text/plain": [
              "2"
            ]
          },
          "metadata": {
            "tags": []
          },
          "execution_count": 45
        }
      ]
    },
    {
      "cell_type": "markdown",
      "metadata": {
        "id": "ttMRoYOqR0Ot"
      },
      "source": [
        "# Creating an array from existing data"
      ]
    },
    {
      "cell_type": "markdown",
      "metadata": {
        "id": "YDXD3NF_R0Ot"
      },
      "source": [
        "You can easily use create a new array from a section of an existing array."
      ]
    },
    {
      "cell_type": "code",
      "metadata": {
        "id": "Vu0ezTEDR0Ou"
      },
      "source": [
        "a = np.array([1,  2,  3,  4,  5,  6,  7,  8,  9, 10])"
      ],
      "execution_count": null,
      "outputs": []
    },
    {
      "cell_type": "code",
      "metadata": {
        "id": "w70b6tQXR0O0",
        "outputId": "effb2a48-2839-4710-e7cd-28ba9c8bb911"
      },
      "source": [
        "arr1 = a[3:8]\n",
        "arr1"
      ],
      "execution_count": null,
      "outputs": [
        {
          "output_type": "execute_result",
          "data": {
            "text/plain": [
              "array([4, 5, 6, 7, 8])"
            ]
          },
          "metadata": {
            "tags": []
          },
          "execution_count": 110
        }
      ]
    },
    {
      "cell_type": "markdown",
      "metadata": {
        "id": "Si-V8l2UR0O2"
      },
      "source": [
        "You can also stack two existing arrays, both vertically and horizontally. Let’s say you have two arrays, a1 and a2:"
      ]
    },
    {
      "cell_type": "code",
      "metadata": {
        "id": "wSSAI-HeR0O4"
      },
      "source": [
        "a1 = np.array([[1, 1],\n",
        "               [2, 2]])\n",
        "\n",
        "a2 = np.array([[3, 3],\n",
        "               [4, 4]])"
      ],
      "execution_count": null,
      "outputs": []
    },
    {
      "cell_type": "code",
      "metadata": {
        "scrolled": true,
        "id": "JCg-ywe_R0O6",
        "outputId": "fd0aad23-9a91-4cc4-f822-dd713dd453a9"
      },
      "source": [
        "np.vstack((a1, a2))"
      ],
      "execution_count": null,
      "outputs": [
        {
          "output_type": "execute_result",
          "data": {
            "text/plain": [
              "array([[1, 1],\n",
              "       [2, 2],\n",
              "       [3, 3],\n",
              "       [4, 4]])"
            ]
          },
          "metadata": {
            "tags": []
          },
          "execution_count": 112
        }
      ]
    },
    {
      "cell_type": "markdown",
      "metadata": {
        "id": "2lFCJ0wvR0O9"
      },
      "source": [
        "using `hstack`"
      ]
    },
    {
      "cell_type": "code",
      "metadata": {
        "id": "UH2XvfkpR0O9",
        "outputId": "6016b4b4-2d16-4940-e3fd-1cb782437788"
      },
      "source": [
        "np.hstack((a1, a2))"
      ],
      "execution_count": null,
      "outputs": [
        {
          "output_type": "execute_result",
          "data": {
            "text/plain": [
              "array([[1, 1, 3, 3],\n",
              "       [2, 2, 4, 4]])"
            ]
          },
          "metadata": {
            "tags": []
          },
          "execution_count": 113
        }
      ]
    },
    {
      "cell_type": "markdown",
      "metadata": {
        "id": "aHIty9jDR0O_"
      },
      "source": [
        "You can split an array into several smaller arrays using `hsplit`. You can specify either the number of equally shaped arrays to return or the columns after which the division should occur."
      ]
    },
    {
      "cell_type": "code",
      "metadata": {
        "id": "zOjJ527wR0PA",
        "outputId": "57237e69-f624-4485-8d19-bfafc95b6f68"
      },
      "source": [
        "x = np.arange(1, 25).reshape(2, 12)\n",
        "x"
      ],
      "execution_count": null,
      "outputs": [
        {
          "output_type": "execute_result",
          "data": {
            "text/plain": [
              "array([[ 1,  2,  3,  4,  5,  6,  7,  8,  9, 10, 11, 12],\n",
              "       [13, 14, 15, 16, 17, 18, 19, 20, 21, 22, 23, 24]])"
            ]
          },
          "metadata": {
            "tags": []
          },
          "execution_count": 114
        }
      ]
    },
    {
      "cell_type": "markdown",
      "metadata": {
        "id": "cKB9jib9R0PD"
      },
      "source": [
        "If you wanted to split this array into three equally shaped arrays, you would run:"
      ]
    },
    {
      "cell_type": "code",
      "metadata": {
        "id": "hBUtQN_PR0PE",
        "outputId": "3c3cd13b-e47e-4794-f1bf-bc93fbe59107"
      },
      "source": [
        "y = np.hsplit(x, 3)\n",
        "y"
      ],
      "execution_count": null,
      "outputs": [
        {
          "output_type": "execute_result",
          "data": {
            "text/plain": [
              "[array([[ 1,  2,  3,  4],\n",
              "        [13, 14, 15, 16]]), array([[ 5,  6,  7,  8],\n",
              "        [17, 18, 19, 20]]), array([[ 9, 10, 11, 12],\n",
              "        [21, 22, 23, 24]])]"
            ]
          },
          "metadata": {
            "tags": []
          },
          "execution_count": 115
        }
      ]
    },
    {
      "cell_type": "markdown",
      "metadata": {
        "id": "zRMyD_HbR0PG"
      },
      "source": [
        "If you want to split your array after the third and fourth column, you’d run:"
      ]
    },
    {
      "cell_type": "code",
      "metadata": {
        "id": "tOd-8FR5R0PH",
        "outputId": "cf88c726-bd87-4be5-df6e-b41b5d2b7feb"
      },
      "source": [
        "x"
      ],
      "execution_count": null,
      "outputs": [
        {
          "output_type": "execute_result",
          "data": {
            "text/plain": [
              "array([[ 1,  2,  3,  4,  5,  6,  7,  8,  9, 10, 11, 12],\n",
              "       [13, 14, 15, 16, 17, 18, 19, 20, 21, 22, 23, 24]])"
            ]
          },
          "metadata": {
            "tags": []
          },
          "execution_count": 116
        }
      ]
    },
    {
      "cell_type": "code",
      "metadata": {
        "scrolled": true,
        "id": "I23ygvLaR0PK",
        "outputId": "ad480a13-fbde-4509-f8a6-ea2ffa758f0c"
      },
      "source": [
        "z = np.hsplit(x, (3, 5))\n",
        "\n",
        "z"
      ],
      "execution_count": null,
      "outputs": [
        {
          "output_type": "execute_result",
          "data": {
            "text/plain": [
              "[array([[ 1,  2,  3],\n",
              "        [13, 14, 15]]), array([[ 4,  5],\n",
              "        [16, 17]]), array([[ 6,  7,  8,  9, 10, 11, 12],\n",
              "        [18, 19, 20, 21, 22, 23, 24]])]"
            ]
          },
          "metadata": {
            "tags": []
          },
          "execution_count": 118
        }
      ]
    },
    {
      "cell_type": "code",
      "metadata": {
        "id": "2VbnWWjsR0PQ",
        "outputId": "124d2dd1-eed7-4627-bf4d-12fa80a9349f"
      },
      "source": [
        "m = np.hsplit(x, (1,3))\n",
        "\n",
        "m"
      ],
      "execution_count": null,
      "outputs": [
        {
          "output_type": "execute_result",
          "data": {
            "text/plain": [
              "[array([[ 1],\n",
              "        [13]]), array([[ 2,  3],\n",
              "        [14, 15]]), array([[ 4,  5,  6,  7,  8,  9, 10, 11, 12],\n",
              "        [16, 17, 18, 19, 20, 21, 22, 23, 24]])]"
            ]
          },
          "metadata": {
            "tags": []
          },
          "execution_count": 119
        }
      ]
    },
    {
      "cell_type": "markdown",
      "metadata": {
        "id": "5HpMxJcQR0PV"
      },
      "source": [
        "# Basic array operations"
      ]
    },
    {
      "cell_type": "code",
      "metadata": {
        "id": "1uo_ABPRR0PW",
        "outputId": "e3ea4f7e-fe52-4bb3-c490-42e2205d3512"
      },
      "source": [
        "data = np.array([1, 2])\n",
        "ones = np.ones(2, dtype=int)\n",
        "\n"
      ],
      "execution_count": null,
      "outputs": [
        {
          "output_type": "execute_result",
          "data": {
            "text/plain": [
              "array([2, 3])"
            ]
          },
          "metadata": {
            "tags": []
          },
          "execution_count": 120
        }
      ]
    },
    {
      "cell_type": "code",
      "metadata": {
        "id": "7Jgq4Dq7R0Pa",
        "outputId": "3265f0c1-fc46-40a3-da12-2ebc775c96b1"
      },
      "source": [
        "data"
      ],
      "execution_count": null,
      "outputs": [
        {
          "output_type": "execute_result",
          "data": {
            "text/plain": [
              "array([1, 2])"
            ]
          },
          "metadata": {
            "tags": []
          },
          "execution_count": 122
        }
      ]
    },
    {
      "cell_type": "code",
      "metadata": {
        "scrolled": true,
        "id": "uZfOYpCrR0Pc",
        "outputId": "6eb86dc6-075d-4ed9-c276-45b0c8de1c88"
      },
      "source": [
        "ones"
      ],
      "execution_count": null,
      "outputs": [
        {
          "output_type": "execute_result",
          "data": {
            "text/plain": [
              "array([1, 1])"
            ]
          },
          "metadata": {
            "tags": []
          },
          "execution_count": 123
        }
      ]
    },
    {
      "cell_type": "code",
      "metadata": {
        "id": "xwhEn9lWR0Pe",
        "outputId": "169c016a-003a-4d73-c1cf-37342d7e0530"
      },
      "source": [
        "data + ones"
      ],
      "execution_count": null,
      "outputs": [
        {
          "output_type": "execute_result",
          "data": {
            "text/plain": [
              "array([2, 3])"
            ]
          },
          "metadata": {
            "tags": []
          },
          "execution_count": 124
        }
      ]
    },
    {
      "cell_type": "markdown",
      "metadata": {
        "id": "UviW7N_7R0Pg"
      },
      "source": [
        "![](image/\"np_data_plus_ones.png\")"
      ]
    },
    {
      "cell_type": "code",
      "metadata": {
        "id": "MSu44bp_R0Pg",
        "outputId": "1ac552b3-32c0-4201-b11f-16a4ed953844"
      },
      "source": [
        "data - ones"
      ],
      "execution_count": null,
      "outputs": [
        {
          "output_type": "execute_result",
          "data": {
            "text/plain": [
              "array([0, 1])"
            ]
          },
          "metadata": {
            "tags": []
          },
          "execution_count": 125
        }
      ]
    },
    {
      "cell_type": "code",
      "metadata": {
        "id": "gGDjTznOR0Po",
        "outputId": "e1c1f3e0-dd2e-4094-a644-2780b2a4b230"
      },
      "source": [
        "data * data"
      ],
      "execution_count": null,
      "outputs": [
        {
          "output_type": "execute_result",
          "data": {
            "text/plain": [
              "array([1, 4])"
            ]
          },
          "metadata": {
            "tags": []
          },
          "execution_count": 126
        }
      ]
    },
    {
      "cell_type": "code",
      "metadata": {
        "id": "GmFdzADBR0Pq",
        "outputId": "903c36cb-f338-47d0-91b4-7c3430e50391"
      },
      "source": [
        "data / data"
      ],
      "execution_count": null,
      "outputs": [
        {
          "output_type": "execute_result",
          "data": {
            "text/plain": [
              "array([1., 1.])"
            ]
          },
          "metadata": {
            "tags": []
          },
          "execution_count": 127
        }
      ]
    },
    {
      "cell_type": "code",
      "metadata": {
        "id": "xwQvqvhmR0Pu",
        "outputId": "a23631da-8cbb-4b40-bc91-fea8db8b366f"
      },
      "source": [
        "a = np.array([1, 2, 3, 4])\n",
        "\n",
        "a.sum()"
      ],
      "execution_count": null,
      "outputs": [
        {
          "output_type": "execute_result",
          "data": {
            "text/plain": [
              "10"
            ]
          },
          "metadata": {
            "tags": []
          },
          "execution_count": 128
        }
      ]
    },
    {
      "cell_type": "markdown",
      "metadata": {
        "id": "aCyGDm3PR0Pw"
      },
      "source": [
        "sum the rows/columns"
      ]
    },
    {
      "cell_type": "code",
      "metadata": {
        "id": "-WK9EcoiR0Pw",
        "outputId": "3aa2e01d-a140-4502-8968-6855f53b8870"
      },
      "source": [
        "b = np.array([[1, 1],\n",
        "              [2, 2]])\n",
        "b.sum(axis=0)"
      ],
      "execution_count": null,
      "outputs": [
        {
          "output_type": "execute_result",
          "data": {
            "text/plain": [
              "array([3, 3])"
            ]
          },
          "metadata": {
            "tags": []
          },
          "execution_count": 129
        }
      ]
    },
    {
      "cell_type": "code",
      "metadata": {
        "id": "vcQUYmLPR0P3",
        "outputId": "6b65d076-a503-4817-e42a-f375962a0e2f"
      },
      "source": [
        "b.sum(axis=1)"
      ],
      "execution_count": null,
      "outputs": [
        {
          "output_type": "execute_result",
          "data": {
            "text/plain": [
              "array([2, 4])"
            ]
          },
          "metadata": {
            "tags": []
          },
          "execution_count": 130
        }
      ]
    },
    {
      "cell_type": "markdown",
      "metadata": {
        "id": "0yz404dTR0P8"
      },
      "source": [
        "# Broadcasting"
      ]
    },
    {
      "cell_type": "markdown",
      "metadata": {
        "id": "DRm8TIMIR0P8"
      },
      "source": [
        "There are times when you might want to carry out an operation between an array and a single number (also called an operation between a vector and a scalar) or between arrays of two different sizes. For example, your array (we’ll call it “data”) might contain information about distance in miles but you want to convert the information to kilometers. You can perform this operation with:"
      ]
    },
    {
      "cell_type": "code",
      "metadata": {
        "id": "EDG7YUkuR0P9"
      },
      "source": [
        "data = np.array([1.0, 2.0])\n",
        "data * 1.6"
      ],
      "execution_count": null,
      "outputs": []
    },
    {
      "cell_type": "markdown",
      "metadata": {
        "id": "uKY-LzJzR0P_"
      },
      "source": [
        "![](image/np_multiply_broadcasting.png)"
      ]
    },
    {
      "cell_type": "markdown",
      "metadata": {
        "id": "HgyflTR4R0P_"
      },
      "source": [
        "NumPy understands that the multiplication should happen with each cell. That concept is called <b> broadcasting </b>. Broadcasting is a mechanism that allows NumPy to perform operations on arrays of different shapes. "
      ]
    },
    {
      "cell_type": "markdown",
      "metadata": {
        "id": "AU-daCa5R0P_"
      },
      "source": [
        "# Working with Mathematical Formulas"
      ]
    },
    {
      "cell_type": "markdown",
      "metadata": {
        "id": "O9JLGFXXR0QA"
      },
      "source": [
        "The ease of implementing mathematical formulas that work on arrays is one of the things that make NumPy so widely used in the scientific Python community."
      ]
    },
    {
      "cell_type": "markdown",
      "metadata": {
        "id": "7eRy4x5nR0QA"
      },
      "source": [
        "![](image/np_MSE_formula.png)"
      ]
    },
    {
      "cell_type": "code",
      "metadata": {
        "id": "Y2H2DNeiR0QB"
      },
      "source": [
        "mse = (1/n) * np.sum(np.square(y_pred - labels))"
      ],
      "execution_count": null,
      "outputs": []
    },
    {
      "cell_type": "markdown",
      "metadata": {
        "id": "-oQzJmT1R0QD"
      },
      "source": [
        "![](image/np_mse_viz1.png)"
      ]
    },
    {
      "cell_type": "markdown",
      "metadata": {
        "id": "l88xCaIdR0QD"
      },
      "source": [
        "![](image/np_mse_viz2.png)"
      ]
    },
    {
      "cell_type": "code",
      "metadata": {
        "id": "Gueo8zNQR0QE"
      },
      "source": [
        ""
      ],
      "execution_count": null,
      "outputs": []
    },
    {
      "cell_type": "markdown",
      "metadata": {
        "id": "aVUh2H9NR0QG"
      },
      "source": [
        "# How to save and load NumPy objects?"
      ]
    },
    {
      "cell_type": "markdown",
      "metadata": {
        "id": "9q9RKhipR0QG"
      },
      "source": [
        "The ndarray objects can be saved to and loaded from the disk files with `loadtxt` and `savetxt` functions that handle normal text files, `load` and `save` functions that handle NumPy binary files with a .npy file extension, and a `savez` function that handles NumPy files with a .npz file extension."
      ]
    },
    {
      "cell_type": "markdown",
      "metadata": {
        "id": "JSDc589iR0QH"
      },
      "source": [
        "If you want to store a single ndarray object, store it as a .npy file using np.save. If you want to store more than one ndarray object in a single file, save it as a .npz file using `np.savez`. You can also save several arrays into a single file in compressed npz format with `savez_compressed`."
      ]
    },
    {
      "cell_type": "code",
      "metadata": {
        "id": "OWUpIp1JR0QH"
      },
      "source": [
        "a = np.array([1, 2, 3, 4, 5, 6])"
      ],
      "execution_count": null,
      "outputs": []
    },
    {
      "cell_type": "code",
      "metadata": {
        "id": "HL30zVJ0R0QJ"
      },
      "source": [
        "np.save('myfile', a)"
      ],
      "execution_count": null,
      "outputs": []
    },
    {
      "cell_type": "code",
      "metadata": {
        "id": "_ss1WZU2R0QL"
      },
      "source": [
        "# load file\n",
        "\n",
        "b = np.load('myfile.npy')"
      ],
      "execution_count": null,
      "outputs": []
    },
    {
      "cell_type": "code",
      "metadata": {
        "id": "vLPFwHCvR0QO",
        "outputId": "b2b18b45-8466-4461-e28d-d511510b8f9a"
      },
      "source": [
        "b"
      ],
      "execution_count": null,
      "outputs": [
        {
          "output_type": "execute_result",
          "data": {
            "text/plain": [
              "array([1, 2, 3, 4, 5, 6])"
            ]
          },
          "metadata": {
            "tags": []
          },
          "execution_count": 135
        }
      ]
    },
    {
      "cell_type": "markdown",
      "metadata": {
        "id": "4aJddK1JR0QQ"
      },
      "source": [
        "You can save a NumPy array as a plain text file like a .csv or .txt file with `np.savetxt`."
      ]
    },
    {
      "cell_type": "code",
      "metadata": {
        "id": "xCBPPogmR0QQ"
      },
      "source": [
        "csv_arr = np.array([1, 2, 3, 4, 5, 6, 7, 8])"
      ],
      "execution_count": null,
      "outputs": []
    },
    {
      "cell_type": "code",
      "metadata": {
        "id": "-_u6pdSsR0QR"
      },
      "source": [
        "np.savetxt('myfile2.csv', csv_arr)"
      ],
      "execution_count": null,
      "outputs": []
    },
    {
      "cell_type": "code",
      "metadata": {
        "scrolled": true,
        "id": "F9JRmY9iR0QU",
        "outputId": "a55a25e0-0716-455e-fe1f-d3d13a98cd60"
      },
      "source": [
        "np.loadtxt('myfile2.csv')"
      ],
      "execution_count": null,
      "outputs": [
        {
          "output_type": "execute_result",
          "data": {
            "text/plain": [
              "array([1., 2., 3., 4., 5., 6., 7., 8.])"
            ]
          },
          "metadata": {
            "tags": []
          },
          "execution_count": 138
        }
      ]
    },
    {
      "cell_type": "markdown",
      "metadata": {
        "id": "2mwRJLwiR0QY"
      },
      "source": [
        "# ASSIGNMENT"
      ]
    },
    {
      "cell_type": "markdown",
      "metadata": {
        "id": "MXY67kP3R0QZ"
      },
      "source": [
        "1. Create a 4x4 matrix with values ranging from 0 to 3.\\\n",
        "(The following image is just as an example. It doesn't represent the real image of arrays in the question)\n",
        "![](image/assignment2.png)"
      ]
    },
    {
      "cell_type": "code",
      "metadata": {
        "id": "H-2r5qOOsxWK",
        "outputId": "d0fa0901-74d8-4a5e-c7c9-17b96d617cb7",
        "colab": {
          "base_uri": "https://localhost:8080/",
          "height": 187
        }
      },
      "source": [
        "x = np.zeros((4,4))\n",
        "print(\"Original array:\")\n",
        "print(x)\n",
        "print(\"Row values ranging from 0 to 3.\")\n",
        "x += np.arange(4)\n",
        "print(x)"
      ],
      "execution_count": 50,
      "outputs": [
        {
          "output_type": "stream",
          "text": [
            "Original array:\n",
            "[[0. 0. 0. 0.]\n",
            " [0. 0. 0. 0.]\n",
            " [0. 0. 0. 0.]\n",
            " [0. 0. 0. 0.]]\n",
            "Row values ranging from 0 to 3.\n",
            "[[0. 1. 2. 3.]\n",
            " [0. 1. 2. 3.]\n",
            " [0. 1. 2. 3.]\n",
            " [0. 1. 2. 3.]]\n"
          ],
          "name": "stdout"
        }
      ]
    },
    {
      "cell_type": "markdown",
      "metadata": {
        "id": "D1sOoCzzR0QZ"
      },
      "source": [
        "2. Create and array with shape of 4x4 and turn it into two arrays along the second axis.\\\n",
        "![](image/assignment.png)"
      ]
    },
    {
      "cell_type": "code",
      "metadata": {
        "id": "1o95gavVu_HA",
        "outputId": "2e66392d-dec4-4f08-e187-26fb8b03ecf5",
        "colab": {
          "base_uri": "https://localhost:8080/",
          "height": 238
        }
      },
      "source": [
        "x = np.arange(16).reshape((4, 4))\n",
        "print(\"Original array:\")\n",
        "print(x)\n",
        "print(\"After splitting horizontally:\")\n",
        "print(np.hsplit(x, [2, 6]))"
      ],
      "execution_count": 56,
      "outputs": [
        {
          "output_type": "stream",
          "text": [
            "Original array:\n",
            "[[ 0  1  2  3]\n",
            " [ 4  5  6  7]\n",
            " [ 8  9 10 11]\n",
            " [12 13 14 15]]\n",
            "After splitting horizontally:\n",
            "[array([[ 0,  1],\n",
            "       [ 4,  5],\n",
            "       [ 8,  9],\n",
            "       [12, 13]]), array([[ 2,  3],\n",
            "       [ 6,  7],\n",
            "       [10, 11],\n",
            "       [14, 15]]), array([], shape=(4, 0), dtype=int64)]\n"
          ],
          "name": "stdout"
        }
      ]
    },
    {
      "cell_type": "code",
      "metadata": {
        "id": "1douPrkOvc-S"
      },
      "source": [
        ""
      ],
      "execution_count": null,
      "outputs": []
    }
  ]
}